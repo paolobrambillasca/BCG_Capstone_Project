{
  "cells": [
    {
      "cell_type": "markdown",
      "metadata": {},
      "source": [
        "# **BCG X Capstone Project** \n",
        "<img src=\"https://web-assets.bcg.com/1a/1f/6b52570e4ba49920815bdda88e36/bcgx-meet-banner.jpg\" alt=\"drawing\" style=\"width:800px; height:300px\"/>\n",
        "\n",
        "### **Product Analysis & Cross-Selling Notebook**\n",
        "\n",
        "**Group members**\n",
        "\n",
        "Morten Aas-Lyngby, Paolo Brambillasca,  Ignacio Alonso Lopez-Linares, Emilio Jair Rodriguez Capitan, Alberto Dona"
      ]
    },
    {
      "cell_type": "markdown",
      "metadata": {},
      "source": [
        "**Notebook description**\n",
        "\n",
        "This notebook provides the third step in our Analysis. \n",
        "It focusses on captivating product cross-selling strategies, as well as calculating customer lifetime value and prioritising marketing actions.\n",
        "\n",
        "**Problem definition**\n",
        "\n",
        "The Team has been tasked with building a Churn Model to increase CLTV as well as to help ClienCo. in their product cross-selling strategy and demand forecasting problem."
      ]
    },
    {
      "cell_type": "markdown",
      "metadata": {},
      "source": [
        "# Table of Contents\n",
        "\n",
        "1. [Importing Necessary Libraries](#1-importing-necessary-libraries)\n",
        "2. [Dataset Loading](#2-dataset-loading)\n",
        "3. [Product Segmentation, ABC Analysis](#3-product-segmentation-abc-analysis)\n",
        "4. [Market Analysis - Association Rules](#4-market-analysis---association-rules)\n",
        "   - [4.1 Preprocessing](#41-preprocessing)\n",
        "   - [4.2 Sample Products](#42-sample-products)\n",
        "   - [4.3 Sample Clients](#43-sample-clients)\n",
        "   - [4.4 Apply Association Rules](#44-apply-association-rules)\n",
        "5. [Cross-Selling](#5-cross-selling)\n",
        "   - [5.1 Product Prices](#51-product-prices)\n",
        "   - [5.2 Identifying Opportunities for Cross-Selling](#52-identifying-opportunities-for-cross-selling)\n",
        "   - [5.3 Financial Impact of Cross-Selling](#53-financial-impact-of-cross-selling)\n",
        "6. [Future Lines of Work](#6-future-lines-of-work)\n"
      ]
    },
    {
      "cell_type": "markdown",
      "metadata": {
        "id": "JGE1_mFA7IZy"
      },
      "source": [
        "### **1. Importing necessary Libraries**"
      ]
    },
    {
      "cell_type": "code",
      "execution_count": 11,
      "metadata": {
        "id": "B_wDcBBRC2KS"
      },
      "outputs": [],
      "source": [
        "import pandas as pd\n",
        "import numpy as np\n",
        "import matplotlib.pyplot as plt\n",
        "import seaborn as sns\n",
        "from mlxtend.frequent_patterns import apriori\n",
        "from mlxtend.frequent_patterns import association_rules\n",
        "import re"
      ]
    },
    {
      "cell_type": "markdown",
      "metadata": {},
      "source": [
        "### **2. Dataset loading**"
      ]
    },
    {
      "cell_type": "code",
      "execution_count": 2,
      "metadata": {
        "id": "Opj2rslMaYfb"
      },
      "outputs": [],
      "source": [
        "data = pd.read_parquet('data/transactions_cleaned')"
      ]
    },
    {
      "cell_type": "code",
      "execution_count": 3,
      "metadata": {
        "colab": {
          "base_uri": "https://localhost:8080/",
          "height": 206
        },
        "id": "FCxZeF3LO42x",
        "outputId": "5264b794-181f-4dee-df4f-171eef6d6a41"
      },
      "outputs": [
        {
          "data": {
            "text/html": [
              "<div>\n",
              "<style scoped>\n",
              "    .dataframe tbody tr th:only-of-type {\n",
              "        vertical-align: middle;\n",
              "    }\n",
              "\n",
              "    .dataframe tbody tr th {\n",
              "        vertical-align: top;\n",
              "    }\n",
              "\n",
              "    .dataframe thead th {\n",
              "        text-align: right;\n",
              "    }\n",
              "</style>\n",
              "<table border=\"1\" class=\"dataframe\">\n",
              "  <thead>\n",
              "    <tr style=\"text-align: right;\">\n",
              "      <th></th>\n",
              "      <th>date_order</th>\n",
              "      <th>product_id</th>\n",
              "      <th>sales_net</th>\n",
              "      <th>quantity</th>\n",
              "      <th>invoice_delay</th>\n",
              "      <th>sales_per_quantity</th>\n",
              "      <th>order_year</th>\n",
              "      <th>order_month</th>\n",
              "      <th>order_day_month</th>\n",
              "      <th>order_day_week</th>\n",
              "      <th>order_period</th>\n",
              "      <th>monthly_sales</th>\n",
              "      <th>previous_month_sales</th>\n",
              "    </tr>\n",
              "  </thead>\n",
              "  <tbody>\n",
              "    <tr>\n",
              "      <th>0</th>\n",
              "      <td>2017-09-25</td>\n",
              "      <td>2376333</td>\n",
              "      <td>155.443207</td>\n",
              "      <td>3</td>\n",
              "      <td>0.0</td>\n",
              "      <td>51.814400</td>\n",
              "      <td>2017</td>\n",
              "      <td>September</td>\n",
              "      <td>25</td>\n",
              "      <td>Monday</td>\n",
              "      <td>2017-09</td>\n",
              "      <td>86852728.0</td>\n",
              "      <td>86852728.0</td>\n",
              "    </tr>\n",
              "    <tr>\n",
              "      <th>1</th>\n",
              "      <td>2017-09-25</td>\n",
              "      <td>2520527</td>\n",
              "      <td>16.394400</td>\n",
              "      <td>3</td>\n",
              "      <td>0.0</td>\n",
              "      <td>5.464800</td>\n",
              "      <td>2017</td>\n",
              "      <td>September</td>\n",
              "      <td>25</td>\n",
              "      <td>Monday</td>\n",
              "      <td>2017-09</td>\n",
              "      <td>86852728.0</td>\n",
              "      <td>86852728.0</td>\n",
              "    </tr>\n",
              "    <tr>\n",
              "      <th>2</th>\n",
              "      <td>2017-09-25</td>\n",
              "      <td>2536756</td>\n",
              "      <td>365.766235</td>\n",
              "      <td>21</td>\n",
              "      <td>0.0</td>\n",
              "      <td>17.417440</td>\n",
              "      <td>2017</td>\n",
              "      <td>September</td>\n",
              "      <td>25</td>\n",
              "      <td>Monday</td>\n",
              "      <td>2017-09</td>\n",
              "      <td>86852728.0</td>\n",
              "      <td>86852728.0</td>\n",
              "    </tr>\n",
              "    <tr>\n",
              "      <th>3</th>\n",
              "      <td>2017-09-25</td>\n",
              "      <td>3028673</td>\n",
              "      <td>8.598780</td>\n",
              "      <td>201</td>\n",
              "      <td>0.0</td>\n",
              "      <td>0.042780</td>\n",
              "      <td>2017</td>\n",
              "      <td>September</td>\n",
              "      <td>25</td>\n",
              "      <td>Monday</td>\n",
              "      <td>2017-09</td>\n",
              "      <td>86852728.0</td>\n",
              "      <td>86852728.0</td>\n",
              "    </tr>\n",
              "    <tr>\n",
              "      <th>4</th>\n",
              "      <td>2017-09-25</td>\n",
              "      <td>203377</td>\n",
              "      <td>1093.374023</td>\n",
              "      <td>3</td>\n",
              "      <td>0.0</td>\n",
              "      <td>364.458008</td>\n",
              "      <td>2017</td>\n",
              "      <td>September</td>\n",
              "      <td>25</td>\n",
              "      <td>Monday</td>\n",
              "      <td>2017-09</td>\n",
              "      <td>86852728.0</td>\n",
              "      <td>86852728.0</td>\n",
              "    </tr>\n",
              "  </tbody>\n",
              "</table>\n",
              "</div>"
            ],
            "text/plain": [
              "  date_order  product_id    sales_net  quantity  invoice_delay  \\\n",
              "0 2017-09-25     2376333   155.443207         3            0.0   \n",
              "1 2017-09-25     2520527    16.394400         3            0.0   \n",
              "2 2017-09-25     2536756   365.766235        21            0.0   \n",
              "3 2017-09-25     3028673     8.598780       201            0.0   \n",
              "4 2017-09-25      203377  1093.374023         3            0.0   \n",
              "\n",
              "   sales_per_quantity  order_year order_month  order_day_month order_day_week  \\\n",
              "0           51.814400        2017   September               25         Monday   \n",
              "1            5.464800        2017   September               25         Monday   \n",
              "2           17.417440        2017   September               25         Monday   \n",
              "3            0.042780        2017   September               25         Monday   \n",
              "4          364.458008        2017   September               25         Monday   \n",
              "\n",
              "  order_period  monthly_sales  previous_month_sales  \n",
              "0      2017-09     86852728.0            86852728.0  \n",
              "1      2017-09     86852728.0            86852728.0  \n",
              "2      2017-09     86852728.0            86852728.0  \n",
              "3      2017-09     86852728.0            86852728.0  \n",
              "4      2017-09     86852728.0            86852728.0  "
            ]
          },
          "execution_count": 3,
          "metadata": {},
          "output_type": "execute_result"
        }
      ],
      "source": [
        "data.drop(columns=['date_invoice', 'client_id', 'order_channel', 'branch_id'], inplace=True)\n",
        "data = data[data['sales_net'] > 0]\n",
        "data.head()"
      ]
    },
    {
      "cell_type": "markdown",
      "metadata": {},
      "source": [
        "### **3. Product Segmentation, ABC Analysis**"
      ]
    },
    {
      "cell_type": "markdown",
      "metadata": {},
      "source": [
        "To segment the products we devided them into three groups based on the cumulative sales:\n",
        " - 0 to 80 percent of sales -> Group A\n",
        " - 80 to 95 percent of sales -> Group B\n",
        " - 95 to 100 percent of sales -> Group C"
      ]
    },
    {
      "cell_type": "code",
      "execution_count": 12,
      "metadata": {
        "collapsed": true,
        "id": "WyJ2epoMJg3m"
      },
      "outputs": [],
      "source": [
        "products_grouped = data.groupby('product_id')[['sales_net','quantity']].sum().reset_index()\n",
        "\n",
        "\n",
        "products_grouped = products_grouped.sort_values(by='sales_net', ascending=False)\n",
        "\n",
        "products_grouped['cum_sales'] = products_grouped['sales_net'].cumsum()\n",
        "products_grouped['cum_sales_percentage'] = products_grouped['cum_sales']/ products_grouped['sales_net'].sum() * 100\n",
        "products_grouped['cum_product_percentage'] = np.arange(1, len(products_grouped) + 1) / len(products_grouped) * 100"
      ]
    },
    {
      "cell_type": "code",
      "execution_count": 13,
      "metadata": {
        "colab": {
          "base_uri": "https://localhost:8080/",
          "height": 794
        },
        "id": "dJRX_8mUMBQV",
        "outputId": "7e7a2f51-53ff-412e-c3ec-d3b6d229680a"
      },
      "outputs": [
        {
          "data": {
            "image/png": "[encoded data removed]",
            "text/plain": [
              "<Figure size 800x900 with 1 Axes>"
            ]
          },
          "metadata": {},
          "output_type": "display_data"
        }
      ],
      "source": [
        "plt.figure(figsize=(8, 9))\n",
        "plt.plot(products_grouped['cum_product_percentage'], products_grouped['cum_sales_percentage'], marker='o', linestyle='-', color='#16734e')\n",
        "plt.xlabel('Cumulative Percentage of Products')\n",
        "plt.axhline(80, color='r', linestyle='--', )\n",
        "plt.axhline(95, color='r', linestyle='--', )\n",
        "plt.ylabel('Cumulative Percentage of Sales')\n",
        "plt.title('Lorenz Curve of Product Sales Distribution')\n",
        "plt.show()"
      ]
    },
    {
      "cell_type": "markdown",
      "metadata": {
        "id": "JK32upX_ZkqS"
      },
      "source": [
        "From the graph we see that a very small percentage of the products account for 80% of the sales and that a large amount of products only account for 5% of the sales. This is the reason for why we chose to segment the products on percentages 80 and 95."
      ]
    },
    {
      "cell_type": "code",
      "execution_count": 14,
      "metadata": {
        "colab": {
          "base_uri": "https://localhost:8080/"
        },
        "id": "vfn1ea9BOHgK",
        "outputId": "725b0852-9bbb-4c72-90a5-ff20e1d7911d"
      },
      "outputs": [
        {
          "name": "stdout",
          "output_type": "stream",
          "text": [
            "The percentage of products accounting for 80% of the sales is: 3.944185278454362%\n",
            "The percentage of products accounting for 95% of the sales is: 18.866201543987117%\n"
          ]
        }
      ],
      "source": [
        "# Find the percentage of products accounting for 80% and 90% of the sales\n",
        "perc_80 = (products_grouped.loc[products_grouped['cum_sales_percentage'] >= 80, 'cum_product_percentage'].iloc[0])/100\n",
        "perc_95 = (products_grouped.loc[products_grouped['cum_sales_percentage'] >= 95, 'cum_product_percentage'].iloc[0])/100\n",
        "\n",
        "\n",
        "print(f\"The percentage of products accounting for 80% of the sales is: {perc_80*100}%\")\n",
        "print(f\"The percentage of products accounting for 95% of the sales is: {perc_95*100}%\")"
      ]
    },
    {
      "cell_type": "code",
      "execution_count": 15,
      "metadata": {
        "colab": {
          "base_uri": "https://localhost:8080/",
          "height": 226
        },
        "id": "t4ZMBaFMA2t4",
        "outputId": "23f889f1-4ea7-439a-ba31-6ffa9e609fcf"
      },
      "outputs": [
        {
          "data": {
            "text/html": [
              "<div>\n",
              "<style scoped>\n",
              "    .dataframe tbody tr th:only-of-type {\n",
              "        vertical-align: middle;\n",
              "    }\n",
              "\n",
              "    .dataframe tbody tr th {\n",
              "        vertical-align: top;\n",
              "    }\n",
              "\n",
              "    .dataframe thead th {\n",
              "        text-align: right;\n",
              "    }\n",
              "</style>\n",
              "<table border=\"1\" class=\"dataframe\">\n",
              "  <thead>\n",
              "    <tr style=\"text-align: right;\">\n",
              "      <th></th>\n",
              "      <th>product_id</th>\n",
              "      <th>sales_net</th>\n",
              "      <th>quantity</th>\n",
              "      <th>cum_sales</th>\n",
              "      <th>cum_sales_percentage</th>\n",
              "      <th>cum_product_percentage</th>\n",
              "      <th>ABC_group</th>\n",
              "    </tr>\n",
              "  </thead>\n",
              "  <tbody>\n",
              "    <tr>\n",
              "      <th>501253</th>\n",
              "      <td>2681878</td>\n",
              "      <td>39394264.0</td>\n",
              "      <td>77818327</td>\n",
              "      <td>39394264.0</td>\n",
              "      <td>0.404698</td>\n",
              "      <td>0.000165</td>\n",
              "      <td>A</td>\n",
              "    </tr>\n",
              "    <tr>\n",
              "      <th>86334</th>\n",
              "      <td>463156</td>\n",
              "      <td>24648122.0</td>\n",
              "      <td>72300233</td>\n",
              "      <td>64042384.0</td>\n",
              "      <td>0.657908</td>\n",
              "      <td>0.000330</td>\n",
              "      <td>A</td>\n",
              "    </tr>\n",
              "    <tr>\n",
              "      <th>475111</th>\n",
              "      <td>2542409</td>\n",
              "      <td>23929256.0</td>\n",
              "      <td>36982251</td>\n",
              "      <td>87971640.0</td>\n",
              "      <td>0.903734</td>\n",
              "      <td>0.000495</td>\n",
              "      <td>A</td>\n",
              "    </tr>\n",
              "    <tr>\n",
              "      <th>233910</th>\n",
              "      <td>1253061</td>\n",
              "      <td>23679756.0</td>\n",
              "      <td>492683</td>\n",
              "      <td>111651392.0</td>\n",
              "      <td>1.146996</td>\n",
              "      <td>0.000661</td>\n",
              "      <td>A</td>\n",
              "    </tr>\n",
              "    <tr>\n",
              "      <th>247463</th>\n",
              "      <td>1325810</td>\n",
              "      <td>19905242.0</td>\n",
              "      <td>46571760</td>\n",
              "      <td>131556632.0</td>\n",
              "      <td>1.351483</td>\n",
              "      <td>0.000826</td>\n",
              "      <td>A</td>\n",
              "    </tr>\n",
              "  </tbody>\n",
              "</table>\n",
              "</div>"
            ],
            "text/plain": [
              "        product_id   sales_net  quantity    cum_sales  cum_sales_percentage  \\\n",
              "501253     2681878  39394264.0  77818327   39394264.0              0.404698   \n",
              "86334       463156  24648122.0  72300233   64042384.0              0.657908   \n",
              "475111     2542409  23929256.0  36982251   87971640.0              0.903734   \n",
              "233910     1253061  23679756.0    492683  111651392.0              1.146996   \n",
              "247463     1325810  19905242.0  46571760  131556632.0              1.351483   \n",
              "\n",
              "        cum_product_percentage ABC_group  \n",
              "501253                0.000165         A  \n",
              "86334                 0.000330         A  \n",
              "475111                0.000495         A  \n",
              "233910                0.000661         A  \n",
              "247463                0.000826         A  "
            ]
          },
          "execution_count": 15,
          "metadata": {},
          "output_type": "execute_result"
        }
      ],
      "source": [
        "products_grouped.loc[products_grouped['cum_sales_percentage'] <= 80, 'ABC_group'] = 'A'\n",
        "products_grouped.loc[(products_grouped['cum_sales_percentage'] > 80) & (products_grouped['cum_product_percentage'] <= 95), 'ABC_group'] = 'B'\n",
        "products_grouped.loc[products_grouped['cum_sales_percentage'] > 95, 'ABC_group'] = 'C'\n",
        "\n",
        "products_grouped.head()"
      ]
    },
    {
      "cell_type": "code",
      "execution_count": 16,
      "metadata": {
        "colab": {
          "base_uri": "https://localhost:8080/",
          "height": 143
        },
        "id": "iyUamv5W496j",
        "outputId": "49904c55-79c0-4f57-a0f7-b7bc84ede1a8"
      },
      "outputs": [
        {
          "data": {
            "text/html": [
              "<div>\n",
              "<style scoped>\n",
              "    .dataframe tbody tr th:only-of-type {\n",
              "        vertical-align: middle;\n",
              "    }\n",
              "\n",
              "    .dataframe tbody tr th {\n",
              "        vertical-align: top;\n",
              "    }\n",
              "\n",
              "    .dataframe thead th {\n",
              "        text-align: right;\n",
              "    }\n",
              "</style>\n",
              "<table border=\"1\" class=\"dataframe\">\n",
              "  <thead>\n",
              "    <tr style=\"text-align: right;\">\n",
              "      <th></th>\n",
              "      <th>ABC_group</th>\n",
              "      <th>n_Items</th>\n",
              "    </tr>\n",
              "  </thead>\n",
              "  <tbody>\n",
              "    <tr>\n",
              "      <th>0</th>\n",
              "      <td>C</td>\n",
              "      <td>491327</td>\n",
              "    </tr>\n",
              "    <tr>\n",
              "      <th>1</th>\n",
              "      <td>B</td>\n",
              "      <td>90364</td>\n",
              "    </tr>\n",
              "    <tr>\n",
              "      <th>2</th>\n",
              "      <td>A</td>\n",
              "      <td>23884</td>\n",
              "    </tr>\n",
              "  </tbody>\n",
              "</table>\n",
              "</div>"
            ],
            "text/plain": [
              "  ABC_group  n_Items\n",
              "0         C   491327\n",
              "1         B    90364\n",
              "2         A    23884"
            ]
          },
          "execution_count": 16,
          "metadata": {},
          "output_type": "execute_result"
        }
      ],
      "source": [
        "abc = products_grouped['ABC_group'].value_counts().to_frame().reset_index()\n",
        "abc.columns = ['ABC_group', 'n_Items']\n",
        "abc"
      ]
    },
    {
      "cell_type": "code",
      "execution_count": 17,
      "metadata": {
        "colab": {
          "base_uri": "https://localhost:8080/",
          "height": 292
        },
        "id": "RRSpqIpB8k6i",
        "outputId": "11218832-e25b-4806-c2c0-41c1ee54e665"
      },
      "outputs": [
        {
          "data": {
            "image/png": "[encoded data removed]",
            "text/plain": [
              "<Figure size 1500x600 with 2 Axes>"
            ]
          },
          "metadata": {},
          "output_type": "display_data"
        }
      ],
      "source": [
        "fig, axes = plt.subplots(1, 2, figsize=(15, 6))\n",
        "\n",
        "sns.barplot(data=products_grouped, x='ABC_group', y='sales_net', estimator=sum, ax=axes[0])\n",
        "axes[0].set_title('Total Sales by Group')\n",
        "axes[0].set_xlabel('ABC Group')\n",
        "axes[0].set_ylabel('Sales')\n",
        "\n",
        "sns.barplot(data=abc, x='ABC_group', y='n_Items', ax=axes[1])\n",
        "axes[1].set_title('Total Items by Group')\n",
        "axes[1].set_xlabel('ABC Group')\n",
        "axes[1].set_ylabel('Items')\n",
        "\n",
        "plt.tight_layout()\n",
        "plt.show()"
      ]
    },
    {
      "cell_type": "code",
      "execution_count": 18,
      "metadata": {
        "id": "BSRoq0XYUq8I"
      },
      "outputs": [],
      "source": [
        "products_grouped.to_parquet('data/products_grouped_ABC.parquet')"
      ]
    },
    {
      "cell_type": "markdown",
      "metadata": {
        "id": "eM0GDmD9eBNK"
      },
      "source": [
        "### **4. Market Analysis - Association Rules**"
      ]
    },
    {
      "cell_type": "markdown",
      "metadata": {
        "id": "qfgL7WnUFALT"
      },
      "source": [
        "Steps taken to create association rules:\n",
        "\n",
        "- Downsampling: The plan was to do the basket analysis on the transactions of product in group A.after trying and failing with RAM-limitation on the association rules we ended up the top 50 products and the top 100 clients based on total sales. This gave 8 604 transactions, which was small enough to calculate the association rules.\n",
        "\n",
        "- To create the association rules we created a column for each transaction. We made an assumpion that a client will only make one purchase per day. All purchases within a day per customer is one transaction.\n",
        "\n",
        "- We then pivoted the table to have the transactions (per customer per day) as rows and the products as columns.\n",
        "\n",
        "- With the pivoted table we could then calculate the association rules.\n",
        "\n",
        "\n",
        "Reference: Market Basket Analysis in Python\n",
        "\n",
        "Source: https://365datascience.com/tutorials/python-tutorials/market-basket-analysis/"
      ]
    },
    {
      "cell_type": "code",
      "execution_count": 19,
      "metadata": {
        "colab": {
          "base_uri": "https://localhost:8080/"
        },
        "id": "MS5il8p2qmPb",
        "outputId": "bc96414b-ccd6-4152-a307-db4ae8e50c8b"
      },
      "outputs": [],
      "source": [
        "abc = pd.read_parquet('data/products_grouped_ABC.parquet')"
      ]
    },
    {
      "cell_type": "code",
      "execution_count": 20,
      "metadata": {
        "colab": {
          "base_uri": "https://localhost:8080/"
        },
        "id": "sXhmbE7jqqPZ",
        "outputId": "1dfa1b0f-e216-49e8-c88d-a0579e7e3847"
      },
      "outputs": [],
      "source": [
        "transactions = pd.read_parquet('data/transactions_cleaned')"
      ]
    },
    {
      "cell_type": "markdown",
      "metadata": {
        "id": "FfCbQzQy0aDs"
      },
      "source": [
        "#### 4.1 Preprocessing"
      ]
    },
    {
      "cell_type": "code",
      "execution_count": 21,
      "metadata": {
        "colab": {
          "base_uri": "https://localhost:8080/"
        },
        "id": "MXpZ0Bwkqzuc",
        "outputId": "ac56e34c-7fb9-43ea-f6b8-98f6e8eb61ff"
      },
      "outputs": [],
      "source": [
        "transactions = transactions.merge(abc[['product_id', 'ABC_group']], on='product_id', how='left')"
      ]
    },
    {
      "cell_type": "code",
      "execution_count": 22,
      "metadata": {},
      "outputs": [],
      "source": [
        "transactions.drop(columns=['invoice_delay', 'sales_per_quantity', 'order_year', \n",
        "                           'order_month', 'order_day_month', 'order_day_week', \n",
        "                           'order_period', 'monthly_sales', 'previous_month_sales'], inplace=True)"
      ]
    },
    {
      "cell_type": "code",
      "execution_count": 23,
      "metadata": {},
      "outputs": [
        {
          "data": {
            "text/html": [
              "<div>\n",
              "<style scoped>\n",
              "    .dataframe tbody tr th:only-of-type {\n",
              "        vertical-align: middle;\n",
              "    }\n",
              "\n",
              "    .dataframe tbody tr th {\n",
              "        vertical-align: top;\n",
              "    }\n",
              "\n",
              "    .dataframe thead th {\n",
              "        text-align: right;\n",
              "    }\n",
              "</style>\n",
              "<table border=\"1\" class=\"dataframe\">\n",
              "  <thead>\n",
              "    <tr style=\"text-align: right;\">\n",
              "      <th></th>\n",
              "      <th>date_order</th>\n",
              "      <th>date_invoice</th>\n",
              "      <th>product_id</th>\n",
              "      <th>client_id</th>\n",
              "      <th>sales_net</th>\n",
              "      <th>quantity</th>\n",
              "      <th>order_channel</th>\n",
              "      <th>branch_id</th>\n",
              "      <th>ABC_group</th>\n",
              "    </tr>\n",
              "  </thead>\n",
              "  <tbody>\n",
              "    <tr>\n",
              "      <th>0</th>\n",
              "      <td>2017-09-25</td>\n",
              "      <td>2017-09-25</td>\n",
              "      <td>2376333</td>\n",
              "      <td>188502</td>\n",
              "      <td>155.443207</td>\n",
              "      <td>3</td>\n",
              "      <td>online</td>\n",
              "      <td>2732</td>\n",
              "      <td>A</td>\n",
              "    </tr>\n",
              "    <tr>\n",
              "      <th>1</th>\n",
              "      <td>2017-09-25</td>\n",
              "      <td>2017-09-25</td>\n",
              "      <td>2520527</td>\n",
              "      <td>835089</td>\n",
              "      <td>16.394400</td>\n",
              "      <td>3</td>\n",
              "      <td>at the store</td>\n",
              "      <td>10279</td>\n",
              "      <td>A</td>\n",
              "    </tr>\n",
              "    <tr>\n",
              "      <th>2</th>\n",
              "      <td>2017-09-25</td>\n",
              "      <td>2017-09-25</td>\n",
              "      <td>2536756</td>\n",
              "      <td>1977896</td>\n",
              "      <td>365.766235</td>\n",
              "      <td>21</td>\n",
              "      <td>online</td>\n",
              "      <td>6184</td>\n",
              "      <td>A</td>\n",
              "    </tr>\n",
              "    <tr>\n",
              "      <th>3</th>\n",
              "      <td>2017-09-25</td>\n",
              "      <td>2017-09-25</td>\n",
              "      <td>3028673</td>\n",
              "      <td>598816</td>\n",
              "      <td>8.598780</td>\n",
              "      <td>201</td>\n",
              "      <td>at the store</td>\n",
              "      <td>4200</td>\n",
              "      <td>A</td>\n",
              "    </tr>\n",
              "    <tr>\n",
              "      <th>4</th>\n",
              "      <td>2017-09-25</td>\n",
              "      <td>2017-09-25</td>\n",
              "      <td>203377</td>\n",
              "      <td>2086861</td>\n",
              "      <td>1093.374023</td>\n",
              "      <td>3</td>\n",
              "      <td>by phone</td>\n",
              "      <td>7051</td>\n",
              "      <td>A</td>\n",
              "    </tr>\n",
              "  </tbody>\n",
              "</table>\n",
              "</div>"
            ],
            "text/plain": [
              "  date_order date_invoice  product_id  client_id    sales_net  quantity  \\\n",
              "0 2017-09-25   2017-09-25     2376333     188502   155.443207         3   \n",
              "1 2017-09-25   2017-09-25     2520527     835089    16.394400         3   \n",
              "2 2017-09-25   2017-09-25     2536756    1977896   365.766235        21   \n",
              "3 2017-09-25   2017-09-25     3028673     598816     8.598780       201   \n",
              "4 2017-09-25   2017-09-25      203377    2086861  1093.374023         3   \n",
              "\n",
              "  order_channel  branch_id ABC_group  \n",
              "0        online       2732         A  \n",
              "1  at the store      10279         A  \n",
              "2        online       6184         A  \n",
              "3  at the store       4200         A  \n",
              "4      by phone       7051         A  "
            ]
          },
          "execution_count": 23,
          "metadata": {},
          "output_type": "execute_result"
        }
      ],
      "source": [
        "transactions.head()"
      ]
    },
    {
      "cell_type": "code",
      "execution_count": 24,
      "metadata": {
        "colab": {
          "base_uri": "https://localhost:8080/"
        },
        "id": "nB7DoxbFtGjE",
        "outputId": "3499ca2e-3009-4622-dfdf-9bd5ef8cdf57"
      },
      "outputs": [
        {
          "data": {
            "text/plain": [
              "ABC_group\n",
              "A    47493208\n",
              "Name: count, dtype: int64"
            ]
          },
          "execution_count": 24,
          "metadata": {},
          "output_type": "execute_result"
        }
      ],
      "source": [
        "trans_A = transactions[transactions['ABC_group'] == 'A']\n",
        "trans_A = trans_A[trans_A['sales_net']>0]\n",
        "trans_A['ABC_group'].value_counts()"
      ]
    },
    {
      "cell_type": "markdown",
      "metadata": {
        "id": "FAD58jq2DD61"
      },
      "source": [
        "#### 4.2 Sample Products"
      ]
    },
    {
      "cell_type": "code",
      "execution_count": 25,
      "metadata": {
        "colab": {
          "base_uri": "https://localhost:8080/"
        },
        "id": "wNK6asmquyVJ",
        "outputId": "3155db18-8535-4e5f-9a5c-66b770ae68a8"
      },
      "outputs": [],
      "source": [
        "products = abc[['product_id', 'cum_sales_percentage']].sort_values(by=['cum_sales_percentage']).head(50)"
      ]
    },
    {
      "cell_type": "code",
      "execution_count": 26,
      "metadata": {
        "colab": {
          "base_uri": "https://localhost:8080/"
        },
        "id": "fT-CykaDtlPE",
        "outputId": "a4035a39-5460-43c1-af27-8b5a786f3472"
      },
      "outputs": [
        {
          "name": "stdout",
          "output_type": "stream",
          "text": [
            "<class 'pandas.core.frame.DataFrame'>\n",
            "Index: 50 entries, 501253 to 11549\n",
            "Data columns (total 2 columns):\n",
            " #   Column                Non-Null Count  Dtype  \n",
            "---  ------                --------------  -----  \n",
            " 0   product_id            50 non-null     int32  \n",
            " 1   cum_sales_percentage  50 non-null     float32\n",
            "dtypes: float32(1), int32(1)\n",
            "memory usage: 800.0 bytes\n"
          ]
        }
      ],
      "source": [
        "products.info()"
      ]
    },
    {
      "cell_type": "code",
      "execution_count": 27,
      "metadata": {
        "colab": {
          "base_uri": "https://localhost:8080/"
        },
        "id": "H_OqdcWMv31j",
        "outputId": "dfe85b92-a16e-408f-93ab-2c244871f795"
      },
      "outputs": [],
      "source": [
        "trans_sample = trans_A[trans_A['product_id'].isin(products['product_id'])]"
      ]
    },
    {
      "cell_type": "markdown",
      "metadata": {
        "id": "vUNoJOLrDK7r"
      },
      "source": [
        "#### 4.3 Sample Clients"
      ]
    },
    {
      "cell_type": "code",
      "execution_count": 28,
      "metadata": {
        "colab": {
          "base_uri": "https://localhost:8080/",
          "height": 206
        },
        "id": "mo43ao-8DOOF",
        "outputId": "cf8f8e49-b9e7-44e7-e7ee-14d8f1b63fa4"
      },
      "outputs": [
        {
          "data": {
            "text/html": [
              "<div>\n",
              "<style scoped>\n",
              "    .dataframe tbody tr th:only-of-type {\n",
              "        vertical-align: middle;\n",
              "    }\n",
              "\n",
              "    .dataframe tbody tr th {\n",
              "        vertical-align: top;\n",
              "    }\n",
              "\n",
              "    .dataframe thead th {\n",
              "        text-align: right;\n",
              "    }\n",
              "</style>\n",
              "<table border=\"1\" class=\"dataframe\">\n",
              "  <thead>\n",
              "    <tr style=\"text-align: right;\">\n",
              "      <th></th>\n",
              "      <th>date_order</th>\n",
              "      <th>date_invoice</th>\n",
              "      <th>product_id</th>\n",
              "      <th>client_id</th>\n",
              "      <th>sales_net</th>\n",
              "      <th>quantity</th>\n",
              "      <th>order_channel</th>\n",
              "      <th>branch_id</th>\n",
              "      <th>ABC_group</th>\n",
              "    </tr>\n",
              "  </thead>\n",
              "  <tbody>\n",
              "    <tr>\n",
              "      <th>0</th>\n",
              "      <td>2017-09-25</td>\n",
              "      <td>2017-09-25</td>\n",
              "      <td>2376333</td>\n",
              "      <td>188502</td>\n",
              "      <td>155.443207</td>\n",
              "      <td>3</td>\n",
              "      <td>online</td>\n",
              "      <td>2732</td>\n",
              "      <td>A</td>\n",
              "    </tr>\n",
              "    <tr>\n",
              "      <th>1</th>\n",
              "      <td>2017-09-25</td>\n",
              "      <td>2017-09-25</td>\n",
              "      <td>2520527</td>\n",
              "      <td>835089</td>\n",
              "      <td>16.394400</td>\n",
              "      <td>3</td>\n",
              "      <td>at the store</td>\n",
              "      <td>10279</td>\n",
              "      <td>A</td>\n",
              "    </tr>\n",
              "    <tr>\n",
              "      <th>2</th>\n",
              "      <td>2017-09-25</td>\n",
              "      <td>2017-09-25</td>\n",
              "      <td>2536756</td>\n",
              "      <td>1977896</td>\n",
              "      <td>365.766235</td>\n",
              "      <td>21</td>\n",
              "      <td>online</td>\n",
              "      <td>6184</td>\n",
              "      <td>A</td>\n",
              "    </tr>\n",
              "    <tr>\n",
              "      <th>3</th>\n",
              "      <td>2017-09-25</td>\n",
              "      <td>2017-09-25</td>\n",
              "      <td>3028673</td>\n",
              "      <td>598816</td>\n",
              "      <td>8.598780</td>\n",
              "      <td>201</td>\n",
              "      <td>at the store</td>\n",
              "      <td>4200</td>\n",
              "      <td>A</td>\n",
              "    </tr>\n",
              "    <tr>\n",
              "      <th>4</th>\n",
              "      <td>2017-09-25</td>\n",
              "      <td>2017-09-25</td>\n",
              "      <td>203377</td>\n",
              "      <td>2086861</td>\n",
              "      <td>1093.374023</td>\n",
              "      <td>3</td>\n",
              "      <td>by phone</td>\n",
              "      <td>7051</td>\n",
              "      <td>A</td>\n",
              "    </tr>\n",
              "  </tbody>\n",
              "</table>\n",
              "</div>"
            ],
            "text/plain": [
              "  date_order date_invoice  product_id  client_id    sales_net  quantity  \\\n",
              "0 2017-09-25   2017-09-25     2376333     188502   155.443207         3   \n",
              "1 2017-09-25   2017-09-25     2520527     835089    16.394400         3   \n",
              "2 2017-09-25   2017-09-25     2536756    1977896   365.766235        21   \n",
              "3 2017-09-25   2017-09-25     3028673     598816     8.598780       201   \n",
              "4 2017-09-25   2017-09-25      203377    2086861  1093.374023         3   \n",
              "\n",
              "  order_channel  branch_id ABC_group  \n",
              "0        online       2732         A  \n",
              "1  at the store      10279         A  \n",
              "2        online       6184         A  \n",
              "3  at the store       4200         A  \n",
              "4      by phone       7051         A  "
            ]
          },
          "execution_count": 28,
          "metadata": {},
          "output_type": "execute_result"
        }
      ],
      "source": [
        "trans_A.head()"
      ]
    },
    {
      "cell_type": "code",
      "execution_count": 29,
      "metadata": {
        "colab": {
          "base_uri": "https://localhost:8080/"
        },
        "id": "FVNtJ_JcD7V2",
        "outputId": "7df0517a-0e42-4749-fb48-5b842a2e204d"
      },
      "outputs": [],
      "source": [
        "trans_A.drop(columns=['date_invoice', 'product_id','quantity', 'order_channel', 'branch_id'], inplace=True)"
      ]
    },
    {
      "cell_type": "code",
      "execution_count": 30,
      "metadata": {
        "colab": {
          "base_uri": "https://localhost:8080/",
          "height": 261
        },
        "id": "xgeVTy9AEDEH",
        "outputId": "35e67bd7-27a3-4a0f-fb7e-16bdb34b55e4"
      },
      "outputs": [
        {
          "data": {
            "text/html": [
              "<div>\n",
              "<style scoped>\n",
              "    .dataframe tbody tr th:only-of-type {\n",
              "        vertical-align: middle;\n",
              "    }\n",
              "\n",
              "    .dataframe tbody tr th {\n",
              "        vertical-align: top;\n",
              "    }\n",
              "\n",
              "    .dataframe thead th {\n",
              "        text-align: right;\n",
              "    }\n",
              "</style>\n",
              "<table border=\"1\" class=\"dataframe\">\n",
              "  <thead>\n",
              "    <tr style=\"text-align: right;\">\n",
              "      <th></th>\n",
              "      <th>client_id</th>\n",
              "      <th>date_order</th>\n",
              "      <th>sales_net</th>\n",
              "    </tr>\n",
              "  </thead>\n",
              "  <tbody>\n",
              "    <tr>\n",
              "      <th>0</th>\n",
              "      <td>6</td>\n",
              "      <td>2017-10-27</td>\n",
              "      <td>1358.089844</td>\n",
              "    </tr>\n",
              "    <tr>\n",
              "      <th>1</th>\n",
              "      <td>6</td>\n",
              "      <td>2017-11-29</td>\n",
              "      <td>204.129608</td>\n",
              "    </tr>\n",
              "    <tr>\n",
              "      <th>2</th>\n",
              "      <td>6</td>\n",
              "      <td>2018-03-30</td>\n",
              "      <td>462.551697</td>\n",
              "    </tr>\n",
              "    <tr>\n",
              "      <th>3</th>\n",
              "      <td>6</td>\n",
              "      <td>2018-05-10</td>\n",
              "      <td>565.054260</td>\n",
              "    </tr>\n",
              "    <tr>\n",
              "      <th>4</th>\n",
              "      <td>6</td>\n",
              "      <td>2018-11-20</td>\n",
              "      <td>270.802002</td>\n",
              "    </tr>\n",
              "  </tbody>\n",
              "</table>\n",
              "</div>"
            ],
            "text/plain": [
              "   client_id date_order    sales_net\n",
              "0          6 2017-10-27  1358.089844\n",
              "1          6 2017-11-29   204.129608\n",
              "2          6 2018-03-30   462.551697\n",
              "3          6 2018-05-10   565.054260\n",
              "4          6 2018-11-20   270.802002"
            ]
          },
          "execution_count": 30,
          "metadata": {},
          "output_type": "execute_result"
        }
      ],
      "source": [
        "clients = trans_A.groupby(['client_id', 'date_order'])[['sales_net']].sum().reset_index()\n",
        "clients.head()"
      ]
    },
    {
      "cell_type": "code",
      "execution_count": 31,
      "metadata": {
        "colab": {
          "base_uri": "https://localhost:8080/"
        },
        "id": "iSVaPwAyJLYL",
        "outputId": "117bdef5-26d6-47d1-809d-aac4d3634d95"
      },
      "outputs": [],
      "source": [
        " clients = clients.sort_values(by=['sales_net'], ascending=False).head(100)"
      ]
    },
    {
      "cell_type": "code",
      "execution_count": 32,
      "metadata": {
        "colab": {
          "base_uri": "https://localhost:8080/"
        },
        "id": "MYsRw2yCJgpY",
        "outputId": "831d1ac7-5828-44fa-9b71-aea40fc239f1"
      },
      "outputs": [],
      "source": [
        "trans_sample = trans_sample[trans_sample['client_id'].isin(clients['client_id'])]"
      ]
    },
    {
      "cell_type": "code",
      "execution_count": 33,
      "metadata": {
        "colab": {
          "base_uri": "https://localhost:8080/"
        },
        "id": "HN2edrHCwGDN",
        "outputId": "523089bb-7cf3-4751-b70d-4202739b13a5"
      },
      "outputs": [
        {
          "name": "stdout",
          "output_type": "stream",
          "text": [
            "<class 'pandas.core.frame.DataFrame'>\n",
            "Index: 8668 entries, 6362 to 61739269\n",
            "Data columns (total 9 columns):\n",
            " #   Column         Non-Null Count  Dtype         \n",
            "---  ------         --------------  -----         \n",
            " 0   date_order     8668 non-null   datetime64[ns]\n",
            " 1   date_invoice   8668 non-null   datetime64[ns]\n",
            " 2   product_id     8668 non-null   int32         \n",
            " 3   client_id      8668 non-null   int32         \n",
            " 4   sales_net      8668 non-null   float32       \n",
            " 5   quantity       8668 non-null   int32         \n",
            " 6   order_channel  8668 non-null   category      \n",
            " 7   branch_id      8668 non-null   int16         \n",
            " 8   ABC_group      8668 non-null   object        \n",
            "dtypes: category(1), datetime64[ns](2), float32(1), int16(1), int32(3), object(1)\n",
            "memory usage: 431.9+ KB\n"
          ]
        }
      ],
      "source": [
        "trans_sample.info()"
      ]
    },
    {
      "cell_type": "code",
      "execution_count": 34,
      "metadata": {
        "colab": {
          "base_uri": "https://localhost:8080/"
        },
        "id": "5GbDqlCYQBDs",
        "outputId": "1a6df415-799c-4ea5-d12f-dae901ec2586"
      },
      "outputs": [],
      "source": [
        "trans_sample.to_parquet('data/trans_sample.parquet')"
      ]
    },
    {
      "cell_type": "markdown",
      "metadata": {
        "id": "k0GKkewjDM5L"
      },
      "source": [
        "#### 4.4 Apply Association Rules"
      ]
    },
    {
      "cell_type": "code",
      "execution_count": 35,
      "metadata": {
        "colab": {
          "base_uri": "https://localhost:8080/",
          "height": 206
        },
        "id": "pV16xtstxHRL",
        "outputId": "38f94f0f-f628-4599-8ec8-43752b9712b9"
      },
      "outputs": [
        {
          "data": {
            "text/html": [
              "<div>\n",
              "<style scoped>\n",
              "    .dataframe tbody tr th:only-of-type {\n",
              "        vertical-align: middle;\n",
              "    }\n",
              "\n",
              "    .dataframe tbody tr th {\n",
              "        vertical-align: top;\n",
              "    }\n",
              "\n",
              "    .dataframe thead th {\n",
              "        text-align: right;\n",
              "    }\n",
              "</style>\n",
              "<table border=\"1\" class=\"dataframe\">\n",
              "  <thead>\n",
              "    <tr style=\"text-align: right;\">\n",
              "      <th></th>\n",
              "      <th>date_order</th>\n",
              "      <th>date_invoice</th>\n",
              "      <th>product_id</th>\n",
              "      <th>client_id</th>\n",
              "      <th>sales_net</th>\n",
              "      <th>quantity</th>\n",
              "      <th>order_channel</th>\n",
              "      <th>branch_id</th>\n",
              "      <th>ABC_group</th>\n",
              "    </tr>\n",
              "  </thead>\n",
              "  <tbody>\n",
              "    <tr>\n",
              "      <th>6362</th>\n",
              "      <td>2017-10-02</td>\n",
              "      <td>2017-10-03</td>\n",
              "      <td>2734140</td>\n",
              "      <td>1552980</td>\n",
              "      <td>22.107599</td>\n",
              "      <td>9</td>\n",
              "      <td>online</td>\n",
              "      <td>1525</td>\n",
              "      <td>A</td>\n",
              "    </tr>\n",
              "    <tr>\n",
              "      <th>7291</th>\n",
              "      <td>2017-09-25</td>\n",
              "      <td>2017-09-25</td>\n",
              "      <td>2354998</td>\n",
              "      <td>1666266</td>\n",
              "      <td>52.699017</td>\n",
              "      <td>27</td>\n",
              "      <td>at the store</td>\n",
              "      <td>5261</td>\n",
              "      <td>A</td>\n",
              "    </tr>\n",
              "    <tr>\n",
              "      <th>7491</th>\n",
              "      <td>2017-09-25</td>\n",
              "      <td>2017-09-25</td>\n",
              "      <td>1745137</td>\n",
              "      <td>1666266</td>\n",
              "      <td>87.721428</td>\n",
              "      <td>33</td>\n",
              "      <td>at the store</td>\n",
              "      <td>5261</td>\n",
              "      <td>A</td>\n",
              "    </tr>\n",
              "    <tr>\n",
              "      <th>8241</th>\n",
              "      <td>2017-09-25</td>\n",
              "      <td>2017-09-25</td>\n",
              "      <td>2542409</td>\n",
              "      <td>1666266</td>\n",
              "      <td>92.275078</td>\n",
              "      <td>201</td>\n",
              "      <td>at the store</td>\n",
              "      <td>5261</td>\n",
              "      <td>A</td>\n",
              "    </tr>\n",
              "    <tr>\n",
              "      <th>13090</th>\n",
              "      <td>2017-09-29</td>\n",
              "      <td>2017-09-29</td>\n",
              "      <td>2542409</td>\n",
              "      <td>1666266</td>\n",
              "      <td>89.279373</td>\n",
              "      <td>201</td>\n",
              "      <td>at the store</td>\n",
              "      <td>5261</td>\n",
              "      <td>A</td>\n",
              "    </tr>\n",
              "  </tbody>\n",
              "</table>\n",
              "</div>"
            ],
            "text/plain": [
              "      date_order date_invoice  product_id  client_id  sales_net  quantity  \\\n",
              "6362  2017-10-02   2017-10-03     2734140    1552980  22.107599         9   \n",
              "7291  2017-09-25   2017-09-25     2354998    1666266  52.699017        27   \n",
              "7491  2017-09-25   2017-09-25     1745137    1666266  87.721428        33   \n",
              "8241  2017-09-25   2017-09-25     2542409    1666266  92.275078       201   \n",
              "13090 2017-09-29   2017-09-29     2542409    1666266  89.279373       201   \n",
              "\n",
              "      order_channel  branch_id ABC_group  \n",
              "6362         online       1525         A  \n",
              "7291   at the store       5261         A  \n",
              "7491   at the store       5261         A  \n",
              "8241   at the store       5261         A  \n",
              "13090  at the store       5261         A  "
            ]
          },
          "execution_count": 35,
          "metadata": {},
          "output_type": "execute_result"
        }
      ],
      "source": [
        "trans_sample.head()"
      ]
    },
    {
      "cell_type": "code",
      "execution_count": 36,
      "metadata": {
        "colab": {
          "base_uri": "https://localhost:8080/"
        },
        "id": "gHuZBJ2DxYk4",
        "outputId": "32d9cb85-1211-40d2-b473-5dba11e3101e"
      },
      "outputs": [
        {
          "data": {
            "text/plain": [
              "9725"
            ]
          },
          "execution_count": 36,
          "metadata": {},
          "output_type": "execute_result"
        }
      ],
      "source": [
        "#To clear dataframes from memory that will not be used further.\n",
        "import gc\n",
        "del abc\n",
        "del transactions\n",
        "del trans_A\n",
        "\n",
        "gc.collect()"
      ]
    },
    {
      "cell_type": "code",
      "execution_count": 37,
      "metadata": {
        "colab": {
          "base_uri": "https://localhost:8080/",
          "height": 206
        },
        "id": "WSR6gzlXrpKu",
        "outputId": "31256500-7963-4afa-8b33-c83c795a66bd"
      },
      "outputs": [
        {
          "data": {
            "text/html": [
              "<div>\n",
              "<style scoped>\n",
              "    .dataframe tbody tr th:only-of-type {\n",
              "        vertical-align: middle;\n",
              "    }\n",
              "\n",
              "    .dataframe tbody tr th {\n",
              "        vertical-align: top;\n",
              "    }\n",
              "\n",
              "    .dataframe thead th {\n",
              "        text-align: right;\n",
              "    }\n",
              "</style>\n",
              "<table border=\"1\" class=\"dataframe\">\n",
              "  <thead>\n",
              "    <tr style=\"text-align: right;\">\n",
              "      <th></th>\n",
              "      <th>date_order</th>\n",
              "      <th>product_id</th>\n",
              "      <th>client_id</th>\n",
              "      <th>single_transaction</th>\n",
              "    </tr>\n",
              "  </thead>\n",
              "  <tbody>\n",
              "    <tr>\n",
              "      <th>6362</th>\n",
              "      <td>2017-10-02</td>\n",
              "      <td>2734140</td>\n",
              "      <td>1552980</td>\n",
              "      <td>1552980_2017-10-02</td>\n",
              "    </tr>\n",
              "    <tr>\n",
              "      <th>7291</th>\n",
              "      <td>2017-09-25</td>\n",
              "      <td>2354998</td>\n",
              "      <td>1666266</td>\n",
              "      <td>1666266_2017-09-25</td>\n",
              "    </tr>\n",
              "    <tr>\n",
              "      <th>7491</th>\n",
              "      <td>2017-09-25</td>\n",
              "      <td>1745137</td>\n",
              "      <td>1666266</td>\n",
              "      <td>1666266_2017-09-25</td>\n",
              "    </tr>\n",
              "    <tr>\n",
              "      <th>8241</th>\n",
              "      <td>2017-09-25</td>\n",
              "      <td>2542409</td>\n",
              "      <td>1666266</td>\n",
              "      <td>1666266_2017-09-25</td>\n",
              "    </tr>\n",
              "    <tr>\n",
              "      <th>13090</th>\n",
              "      <td>2017-09-29</td>\n",
              "      <td>2542409</td>\n",
              "      <td>1666266</td>\n",
              "      <td>1666266_2017-09-29</td>\n",
              "    </tr>\n",
              "  </tbody>\n",
              "</table>\n",
              "</div>"
            ],
            "text/plain": [
              "      date_order  product_id  client_id  single_transaction\n",
              "6362  2017-10-02     2734140    1552980  1552980_2017-10-02\n",
              "7291  2017-09-25     2354998    1666266  1666266_2017-09-25\n",
              "7491  2017-09-25     1745137    1666266  1666266_2017-09-25\n",
              "8241  2017-09-25     2542409    1666266  1666266_2017-09-25\n",
              "13090 2017-09-29     2542409    1666266  1666266_2017-09-29"
            ]
          },
          "execution_count": 37,
          "metadata": {},
          "output_type": "execute_result"
        }
      ],
      "source": [
        "trans_sample.drop(columns=['ABC_group', 'date_invoice', 'sales_net', 'quantity', 'order_channel', 'branch_id'], inplace=True)\n",
        "\n",
        "trans_sample['single_transaction'] = trans_sample['client_id'].astype(str)+'_'+trans_sample['date_order'].astype(str)\n",
        "trans_sample.head()"
      ]
    },
    {
      "cell_type": "code",
      "execution_count": 38,
      "metadata": {
        "colab": {
          "base_uri": "https://localhost:8080/",
          "height": 267
        },
        "id": "kLQ6GQHfzZF_",
        "outputId": "b455d53a-41de-41fc-8108-82f247a476d3"
      },
      "outputs": [
        {
          "data": {
            "text/html": [
              "<div>\n",
              "<style scoped>\n",
              "    .dataframe tbody tr th:only-of-type {\n",
              "        vertical-align: middle;\n",
              "    }\n",
              "\n",
              "    .dataframe tbody tr th {\n",
              "        vertical-align: top;\n",
              "    }\n",
              "\n",
              "    .dataframe thead th {\n",
              "        text-align: right;\n",
              "    }\n",
              "</style>\n",
              "<table border=\"1\" class=\"dataframe\">\n",
              "  <thead>\n",
              "    <tr style=\"text-align: right;\">\n",
              "      <th>product_id</th>\n",
              "      <th>11100</th>\n",
              "      <th>59473</th>\n",
              "      <th>85044</th>\n",
              "      <th>246256</th>\n",
              "      <th>378845</th>\n",
              "      <th>417321</th>\n",
              "      <th>463156</th>\n",
              "      <th>517859</th>\n",
              "      <th>547877</th>\n",
              "      <th>560204</th>\n",
              "      <th>...</th>\n",
              "      <th>2198494</th>\n",
              "      <th>2354998</th>\n",
              "      <th>2542409</th>\n",
              "      <th>2564840</th>\n",
              "      <th>2681878</th>\n",
              "      <th>2732769</th>\n",
              "      <th>2734140</th>\n",
              "      <th>2995747</th>\n",
              "      <th>3122216</th>\n",
              "      <th>3152916</th>\n",
              "    </tr>\n",
              "    <tr>\n",
              "      <th>single_transaction</th>\n",
              "      <th></th>\n",
              "      <th></th>\n",
              "      <th></th>\n",
              "      <th></th>\n",
              "      <th></th>\n",
              "      <th></th>\n",
              "      <th></th>\n",
              "      <th></th>\n",
              "      <th></th>\n",
              "      <th></th>\n",
              "      <th></th>\n",
              "      <th></th>\n",
              "      <th></th>\n",
              "      <th></th>\n",
              "      <th></th>\n",
              "      <th></th>\n",
              "      <th></th>\n",
              "      <th></th>\n",
              "      <th></th>\n",
              "      <th></th>\n",
              "      <th></th>\n",
              "    </tr>\n",
              "  </thead>\n",
              "  <tbody>\n",
              "    <tr>\n",
              "      <th>1002324_2017-11-16</th>\n",
              "      <td>1</td>\n",
              "      <td>0</td>\n",
              "      <td>0</td>\n",
              "      <td>1</td>\n",
              "      <td>0</td>\n",
              "      <td>1</td>\n",
              "      <td>0</td>\n",
              "      <td>0</td>\n",
              "      <td>0</td>\n",
              "      <td>0</td>\n",
              "      <td>...</td>\n",
              "      <td>0</td>\n",
              "      <td>0</td>\n",
              "      <td>0</td>\n",
              "      <td>0</td>\n",
              "      <td>0</td>\n",
              "      <td>0</td>\n",
              "      <td>0</td>\n",
              "      <td>0</td>\n",
              "      <td>0</td>\n",
              "      <td>0</td>\n",
              "    </tr>\n",
              "    <tr>\n",
              "      <th>1061432_2018-03-30</th>\n",
              "      <td>0</td>\n",
              "      <td>0</td>\n",
              "      <td>0</td>\n",
              "      <td>0</td>\n",
              "      <td>0</td>\n",
              "      <td>0</td>\n",
              "      <td>0</td>\n",
              "      <td>0</td>\n",
              "      <td>0</td>\n",
              "      <td>0</td>\n",
              "      <td>...</td>\n",
              "      <td>0</td>\n",
              "      <td>0</td>\n",
              "      <td>0</td>\n",
              "      <td>0</td>\n",
              "      <td>0</td>\n",
              "      <td>0</td>\n",
              "      <td>0</td>\n",
              "      <td>0</td>\n",
              "      <td>0</td>\n",
              "      <td>0</td>\n",
              "    </tr>\n",
              "    <tr>\n",
              "      <th>1080520_2017-09-25</th>\n",
              "      <td>0</td>\n",
              "      <td>0</td>\n",
              "      <td>0</td>\n",
              "      <td>0</td>\n",
              "      <td>0</td>\n",
              "      <td>0</td>\n",
              "      <td>0</td>\n",
              "      <td>0</td>\n",
              "      <td>0</td>\n",
              "      <td>0</td>\n",
              "      <td>...</td>\n",
              "      <td>0</td>\n",
              "      <td>0</td>\n",
              "      <td>0</td>\n",
              "      <td>0</td>\n",
              "      <td>0</td>\n",
              "      <td>0</td>\n",
              "      <td>2</td>\n",
              "      <td>0</td>\n",
              "      <td>0</td>\n",
              "      <td>0</td>\n",
              "    </tr>\n",
              "    <tr>\n",
              "      <th>1080520_2017-09-26</th>\n",
              "      <td>0</td>\n",
              "      <td>0</td>\n",
              "      <td>0</td>\n",
              "      <td>0</td>\n",
              "      <td>0</td>\n",
              "      <td>0</td>\n",
              "      <td>0</td>\n",
              "      <td>0</td>\n",
              "      <td>0</td>\n",
              "      <td>0</td>\n",
              "      <td>...</td>\n",
              "      <td>0</td>\n",
              "      <td>0</td>\n",
              "      <td>0</td>\n",
              "      <td>0</td>\n",
              "      <td>0</td>\n",
              "      <td>0</td>\n",
              "      <td>0</td>\n",
              "      <td>0</td>\n",
              "      <td>0</td>\n",
              "      <td>0</td>\n",
              "    </tr>\n",
              "    <tr>\n",
              "      <th>1080520_2017-09-28</th>\n",
              "      <td>0</td>\n",
              "      <td>0</td>\n",
              "      <td>0</td>\n",
              "      <td>0</td>\n",
              "      <td>0</td>\n",
              "      <td>0</td>\n",
              "      <td>0</td>\n",
              "      <td>0</td>\n",
              "      <td>0</td>\n",
              "      <td>0</td>\n",
              "      <td>...</td>\n",
              "      <td>0</td>\n",
              "      <td>0</td>\n",
              "      <td>0</td>\n",
              "      <td>0</td>\n",
              "      <td>0</td>\n",
              "      <td>0</td>\n",
              "      <td>1</td>\n",
              "      <td>0</td>\n",
              "      <td>0</td>\n",
              "      <td>0</td>\n",
              "    </tr>\n",
              "  </tbody>\n",
              "</table>\n",
              "<p>5 rows × 46 columns</p>\n",
              "</div>"
            ],
            "text/plain": [
              "product_id          11100    59473    85044    246256   378845   417321   \\\n",
              "single_transaction                                                         \n",
              "1002324_2017-11-16        1        0        0        1        0        1   \n",
              "1061432_2018-03-30        0        0        0        0        0        0   \n",
              "1080520_2017-09-25        0        0        0        0        0        0   \n",
              "1080520_2017-09-26        0        0        0        0        0        0   \n",
              "1080520_2017-09-28        0        0        0        0        0        0   \n",
              "\n",
              "product_id          463156   517859   547877   560204   ...  2198494  2354998  \\\n",
              "single_transaction                                      ...                     \n",
              "1002324_2017-11-16        0        0        0        0  ...        0        0   \n",
              "1061432_2018-03-30        0        0        0        0  ...        0        0   \n",
              "1080520_2017-09-25        0        0        0        0  ...        0        0   \n",
              "1080520_2017-09-26        0        0        0        0  ...        0        0   \n",
              "1080520_2017-09-28        0        0        0        0  ...        0        0   \n",
              "\n",
              "product_id          2542409  2564840  2681878  2732769  2734140  2995747  \\\n",
              "single_transaction                                                         \n",
              "1002324_2017-11-16        0        0        0        0        0        0   \n",
              "1061432_2018-03-30        0        0        0        0        0        0   \n",
              "1080520_2017-09-25        0        0        0        0        2        0   \n",
              "1080520_2017-09-26        0        0        0        0        0        0   \n",
              "1080520_2017-09-28        0        0        0        0        1        0   \n",
              "\n",
              "product_id          3122216  3152916  \n",
              "single_transaction                    \n",
              "1002324_2017-11-16        0        0  \n",
              "1061432_2018-03-30        0        0  \n",
              "1080520_2017-09-25        0        0  \n",
              "1080520_2017-09-26        0        0  \n",
              "1080520_2017-09-28        0        0  \n",
              "\n",
              "[5 rows x 46 columns]"
            ]
          },
          "execution_count": 38,
          "metadata": {},
          "output_type": "execute_result"
        }
      ],
      "source": [
        "sample_pivot = pd.crosstab(trans_sample['single_transaction'], trans_sample['product_id'])\n",
        "sample_pivot.head()"
      ]
    },
    {
      "cell_type": "code",
      "execution_count": 39,
      "metadata": {
        "id": "_0K9r8Yz00nr"
      },
      "outputs": [
        {
          "name": "stderr",
          "output_type": "stream",
          "text": [
            "C:\\Users\\Inas\\AppData\\Local\\Temp\\ipykernel_24572\\481825376.py:8: FutureWarning: DataFrame.applymap has been deprecated. Use DataFrame.map instead.\n",
            "  basket_input = sample_pivot.applymap(encode)\n"
          ]
        }
      ],
      "source": [
        "#Some customers bought the same product more than once in the same day. We still count this as one purchase and need to encode these to 1.\n",
        "def encode(item_freq):\n",
        "    res = 0\n",
        "    if item_freq > 0:\n",
        "        res = 1\n",
        "    return res\n",
        "\n",
        "basket_input = sample_pivot.applymap(encode)"
      ]
    },
    {
      "cell_type": "code",
      "execution_count": 40,
      "metadata": {
        "colab": {
          "base_uri": "https://localhost:8080/",
          "height": 261
        },
        "id": "feN4nJd80gOG",
        "outputId": "51ea329d-0387-4208-b132-ee8365028cdd"
      },
      "outputs": [
        {
          "name": "stderr",
          "output_type": "stream",
          "text": [
            "c:\\Users\\Inas\\anaconda3\\envs\\capstone\\lib\\site-packages\\mlxtend\\frequent_patterns\\fpcommon.py:109: DeprecationWarning: DataFrames with non-bool types result in worse computationalperformance and their support might be discontinued in the future.Please use a DataFrame with bool type\n",
            "  warnings.warn(\n"
          ]
        },
        {
          "data": {
            "text/html": [
              "<div>\n",
              "<style scoped>\n",
              "    .dataframe tbody tr th:only-of-type {\n",
              "        vertical-align: middle;\n",
              "    }\n",
              "\n",
              "    .dataframe tbody tr th {\n",
              "        vertical-align: top;\n",
              "    }\n",
              "\n",
              "    .dataframe thead th {\n",
              "        text-align: right;\n",
              "    }\n",
              "</style>\n",
              "<table border=\"1\" class=\"dataframe\">\n",
              "  <thead>\n",
              "    <tr style=\"text-align: right;\">\n",
              "      <th></th>\n",
              "      <th>antecedents</th>\n",
              "      <th>consequents</th>\n",
              "      <th>antecedent support</th>\n",
              "      <th>consequent support</th>\n",
              "      <th>support</th>\n",
              "      <th>confidence</th>\n",
              "      <th>lift</th>\n",
              "      <th>leverage</th>\n",
              "      <th>conviction</th>\n",
              "      <th>zhangs_metric</th>\n",
              "    </tr>\n",
              "  </thead>\n",
              "  <tbody>\n",
              "    <tr>\n",
              "      <th>0</th>\n",
              "      <td>(11100)</td>\n",
              "      <td>(85044)</td>\n",
              "      <td>0.024187</td>\n",
              "      <td>0.013344</td>\n",
              "      <td>0.002502</td>\n",
              "      <td>0.103448</td>\n",
              "      <td>7.752155</td>\n",
              "      <td>0.002179</td>\n",
              "      <td>1.100500</td>\n",
              "      <td>0.892593</td>\n",
              "    </tr>\n",
              "    <tr>\n",
              "      <th>1</th>\n",
              "      <td>(85044)</td>\n",
              "      <td>(11100)</td>\n",
              "      <td>0.013344</td>\n",
              "      <td>0.024187</td>\n",
              "      <td>0.002502</td>\n",
              "      <td>0.187500</td>\n",
              "      <td>7.752155</td>\n",
              "      <td>0.002179</td>\n",
              "      <td>1.201001</td>\n",
              "      <td>0.882784</td>\n",
              "    </tr>\n",
              "    <tr>\n",
              "      <th>2</th>\n",
              "      <td>(246256)</td>\n",
              "      <td>(11100)</td>\n",
              "      <td>0.015013</td>\n",
              "      <td>0.024187</td>\n",
              "      <td>0.002502</td>\n",
              "      <td>0.166667</td>\n",
              "      <td>6.890805</td>\n",
              "      <td>0.002139</td>\n",
              "      <td>1.170976</td>\n",
              "      <td>0.867909</td>\n",
              "    </tr>\n",
              "    <tr>\n",
              "      <th>3</th>\n",
              "      <td>(11100)</td>\n",
              "      <td>(246256)</td>\n",
              "      <td>0.024187</td>\n",
              "      <td>0.015013</td>\n",
              "      <td>0.002502</td>\n",
              "      <td>0.103448</td>\n",
              "      <td>6.890805</td>\n",
              "      <td>0.002139</td>\n",
              "      <td>1.098640</td>\n",
              "      <td>0.876068</td>\n",
              "    </tr>\n",
              "    <tr>\n",
              "      <th>4</th>\n",
              "      <td>(11100)</td>\n",
              "      <td>(378845)</td>\n",
              "      <td>0.024187</td>\n",
              "      <td>0.057131</td>\n",
              "      <td>0.002085</td>\n",
              "      <td>0.086207</td>\n",
              "      <td>1.508935</td>\n",
              "      <td>0.000703</td>\n",
              "      <td>1.031819</td>\n",
              "      <td>0.345641</td>\n",
              "    </tr>\n",
              "  </tbody>\n",
              "</table>\n",
              "</div>"
            ],
            "text/plain": [
              "  antecedents consequents  antecedent support  consequent support   support  \\\n",
              "0     (11100)     (85044)            0.024187            0.013344  0.002502   \n",
              "1     (85044)     (11100)            0.013344            0.024187  0.002502   \n",
              "2    (246256)     (11100)            0.015013            0.024187  0.002502   \n",
              "3     (11100)    (246256)            0.024187            0.015013  0.002502   \n",
              "4     (11100)    (378845)            0.024187            0.057131  0.002085   \n",
              "\n",
              "   confidence      lift  leverage  conviction  zhangs_metric  \n",
              "0    0.103448  7.752155  0.002179    1.100500       0.892593  \n",
              "1    0.187500  7.752155  0.002179    1.201001       0.882784  \n",
              "2    0.166667  6.890805  0.002139    1.170976       0.867909  \n",
              "3    0.103448  6.890805  0.002139    1.098640       0.876068  \n",
              "4    0.086207  1.508935  0.000703    1.031819       0.345641  "
            ]
          },
          "execution_count": 40,
          "metadata": {},
          "output_type": "execute_result"
        }
      ],
      "source": [
        "frequent_itemsets = apriori(basket_input, min_support=0.001, use_colnames=True)\n",
        "\n",
        "rules = association_rules(frequent_itemsets, metric=\"lift\")\n",
        "\n",
        "rules.head()"
      ]
    },
    {
      "cell_type": "code",
      "execution_count": 41,
      "metadata": {
        "colab": {
          "base_uri": "https://localhost:8080/",
          "height": 355
        },
        "id": "_q9hrZ4XLxhd",
        "outputId": "58c0b3c1-49e7-4735-a7a4-4a2f31a7cbfa"
      },
      "outputs": [
        {
          "data": {
            "text/html": [
              "<div>\n",
              "<style scoped>\n",
              "    .dataframe tbody tr th:only-of-type {\n",
              "        vertical-align: middle;\n",
              "    }\n",
              "\n",
              "    .dataframe tbody tr th {\n",
              "        vertical-align: top;\n",
              "    }\n",
              "\n",
              "    .dataframe thead th {\n",
              "        text-align: right;\n",
              "    }\n",
              "</style>\n",
              "<table border=\"1\" class=\"dataframe\">\n",
              "  <thead>\n",
              "    <tr style=\"text-align: right;\">\n",
              "      <th></th>\n",
              "      <th>antecedents</th>\n",
              "      <th>consequents</th>\n",
              "      <th>antecedent support</th>\n",
              "      <th>consequent support</th>\n",
              "      <th>support</th>\n",
              "      <th>confidence</th>\n",
              "      <th>lift</th>\n",
              "      <th>leverage</th>\n",
              "      <th>conviction</th>\n",
              "      <th>zhangs_metric</th>\n",
              "    </tr>\n",
              "  </thead>\n",
              "  <tbody>\n",
              "    <tr>\n",
              "      <th>1025</th>\n",
              "      <td>(2734140)</td>\n",
              "      <td>(1390401)</td>\n",
              "      <td>0.237698</td>\n",
              "      <td>0.316097</td>\n",
              "      <td>0.164304</td>\n",
              "      <td>0.691228</td>\n",
              "      <td>2.186761</td>\n",
              "      <td>0.089168</td>\n",
              "      <td>2.214914</td>\n",
              "      <td>0.711926</td>\n",
              "    </tr>\n",
              "    <tr>\n",
              "      <th>1024</th>\n",
              "      <td>(1390401)</td>\n",
              "      <td>(2734140)</td>\n",
              "      <td>0.316097</td>\n",
              "      <td>0.237698</td>\n",
              "      <td>0.164304</td>\n",
              "      <td>0.519789</td>\n",
              "      <td>2.186761</td>\n",
              "      <td>0.089168</td>\n",
              "      <td>1.587431</td>\n",
              "      <td>0.793537</td>\n",
              "    </tr>\n",
              "    <tr>\n",
              "      <th>342</th>\n",
              "      <td>(463156)</td>\n",
              "      <td>(2681878)</td>\n",
              "      <td>0.106339</td>\n",
              "      <td>0.129274</td>\n",
              "      <td>0.071726</td>\n",
              "      <td>0.674510</td>\n",
              "      <td>5.217660</td>\n",
              "      <td>0.057980</td>\n",
              "      <td>2.675121</td>\n",
              "      <td>0.904530</td>\n",
              "    </tr>\n",
              "    <tr>\n",
              "      <th>343</th>\n",
              "      <td>(2681878)</td>\n",
              "      <td>(463156)</td>\n",
              "      <td>0.129274</td>\n",
              "      <td>0.106339</td>\n",
              "      <td>0.071726</td>\n",
              "      <td>0.554839</td>\n",
              "      <td>5.217660</td>\n",
              "      <td>0.057980</td>\n",
              "      <td>2.007500</td>\n",
              "      <td>0.928356</td>\n",
              "    </tr>\n",
              "    <tr>\n",
              "      <th>1013</th>\n",
              "      <td>(2198494)</td>\n",
              "      <td>(1390401)</td>\n",
              "      <td>0.155963</td>\n",
              "      <td>0.316097</td>\n",
              "      <td>0.066722</td>\n",
              "      <td>0.427807</td>\n",
              "      <td>1.353407</td>\n",
              "      <td>0.017423</td>\n",
              "      <td>1.195233</td>\n",
              "      <td>0.309375</td>\n",
              "    </tr>\n",
              "    <tr>\n",
              "      <th>1012</th>\n",
              "      <td>(1390401)</td>\n",
              "      <td>(2198494)</td>\n",
              "      <td>0.316097</td>\n",
              "      <td>0.155963</td>\n",
              "      <td>0.066722</td>\n",
              "      <td>0.211082</td>\n",
              "      <td>1.353407</td>\n",
              "      <td>0.017423</td>\n",
              "      <td>1.069866</td>\n",
              "      <td>0.381814</td>\n",
              "    </tr>\n",
              "    <tr>\n",
              "      <th>1015</th>\n",
              "      <td>(2354998)</td>\n",
              "      <td>(1390401)</td>\n",
              "      <td>0.085071</td>\n",
              "      <td>0.316097</td>\n",
              "      <td>0.065054</td>\n",
              "      <td>0.764706</td>\n",
              "      <td>2.419215</td>\n",
              "      <td>0.038164</td>\n",
              "      <td>2.906589</td>\n",
              "      <td>0.641189</td>\n",
              "    </tr>\n",
              "    <tr>\n",
              "      <th>1014</th>\n",
              "      <td>(1390401)</td>\n",
              "      <td>(2354998)</td>\n",
              "      <td>0.316097</td>\n",
              "      <td>0.085071</td>\n",
              "      <td>0.065054</td>\n",
              "      <td>0.205805</td>\n",
              "      <td>2.419215</td>\n",
              "      <td>0.038164</td>\n",
              "      <td>1.152020</td>\n",
              "      <td>0.857786</td>\n",
              "    </tr>\n",
              "  </tbody>\n",
              "</table>\n",
              "</div>"
            ],
            "text/plain": [
              "     antecedents consequents  antecedent support  consequent support  \\\n",
              "1025   (2734140)   (1390401)            0.237698            0.316097   \n",
              "1024   (1390401)   (2734140)            0.316097            0.237698   \n",
              "342     (463156)   (2681878)            0.106339            0.129274   \n",
              "343    (2681878)    (463156)            0.129274            0.106339   \n",
              "1013   (2198494)   (1390401)            0.155963            0.316097   \n",
              "1012   (1390401)   (2198494)            0.316097            0.155963   \n",
              "1015   (2354998)   (1390401)            0.085071            0.316097   \n",
              "1014   (1390401)   (2354998)            0.316097            0.085071   \n",
              "\n",
              "       support  confidence      lift  leverage  conviction  zhangs_metric  \n",
              "1025  0.164304    0.691228  2.186761  0.089168    2.214914       0.711926  \n",
              "1024  0.164304    0.519789  2.186761  0.089168    1.587431       0.793537  \n",
              "342   0.071726    0.674510  5.217660  0.057980    2.675121       0.904530  \n",
              "343   0.071726    0.554839  5.217660  0.057980    2.007500       0.928356  \n",
              "1013  0.066722    0.427807  1.353407  0.017423    1.195233       0.309375  \n",
              "1012  0.066722    0.211082  1.353407  0.017423    1.069866       0.381814  \n",
              "1015  0.065054    0.764706  2.419215  0.038164    2.906589       0.641189  \n",
              "1014  0.065054    0.205805  2.419215  0.038164    1.152020       0.857786  "
            ]
          },
          "execution_count": 41,
          "metadata": {},
          "output_type": "execute_result"
        }
      ],
      "source": [
        "rules.sort_values([\"support\", \"confidence\",\"lift\"],axis = 0, ascending = False).head(8)"
      ]
    },
    {
      "cell_type": "code",
      "execution_count": 43,
      "metadata": {
        "colab": {
          "base_uri": "https://localhost:8080/"
        },
        "id": "j7uTYpFHPj_e",
        "outputId": "94314fbf-0320-47f6-e4e8-ff4b4df8f67e"
      },
      "outputs": [],
      "source": [
        "rules.to_csv('data/rules.csv')"
      ]
    },
    {
      "cell_type": "markdown",
      "metadata": {
        "id": "vaLkv3OheQLw"
      },
      "source": [
        "### **5. Cross-Selling**"
      ]
    },
    {
      "cell_type": "markdown",
      "metadata": {
        "id": "BSaT3SbBQf7y"
      },
      "source": [
        "#### 5.1 Product Prices\n"
      ]
    },
    {
      "cell_type": "markdown",
      "metadata": {},
      "source": [
        "To know which products we want prioritize we need need the product prices."
      ]
    },
    {
      "cell_type": "code",
      "execution_count": 50,
      "metadata": {
        "colab": {
          "base_uri": "https://localhost:8080/"
        },
        "id": "ZEXcezhdQjxC",
        "outputId": "e0bf97c8-398c-4e59-94fd-8f4a9a7c5fa0"
      },
      "outputs": [],
      "source": [
        "prices = pd.read_parquet('data/transactions_cleaned')"
      ]
    },
    {
      "cell_type": "code",
      "execution_count": 51,
      "metadata": {
        "colab": {
          "base_uri": "https://localhost:8080/",
          "height": 261
        },
        "id": "HfPw9UcjQ7az",
        "outputId": "8e2caa6f-f964-4353-c733-169307da6373"
      },
      "outputs": [
        {
          "data": {
            "text/html": [
              "<div>\n",
              "<style scoped>\n",
              "    .dataframe tbody tr th:only-of-type {\n",
              "        vertical-align: middle;\n",
              "    }\n",
              "\n",
              "    .dataframe tbody tr th {\n",
              "        vertical-align: top;\n",
              "    }\n",
              "\n",
              "    .dataframe thead th {\n",
              "        text-align: right;\n",
              "    }\n",
              "</style>\n",
              "<table border=\"1\" class=\"dataframe\">\n",
              "  <thead>\n",
              "    <tr style=\"text-align: right;\">\n",
              "      <th></th>\n",
              "      <th>date_order</th>\n",
              "      <th>date_invoice</th>\n",
              "      <th>product_id</th>\n",
              "      <th>client_id</th>\n",
              "      <th>sales_net</th>\n",
              "      <th>quantity</th>\n",
              "      <th>order_channel</th>\n",
              "      <th>branch_id</th>\n",
              "      <th>invoice_delay</th>\n",
              "      <th>sales_per_quantity</th>\n",
              "      <th>order_year</th>\n",
              "      <th>order_month</th>\n",
              "      <th>order_day_month</th>\n",
              "      <th>order_day_week</th>\n",
              "      <th>order_period</th>\n",
              "      <th>monthly_sales</th>\n",
              "      <th>previous_month_sales</th>\n",
              "    </tr>\n",
              "  </thead>\n",
              "  <tbody>\n",
              "    <tr>\n",
              "      <th>0</th>\n",
              "      <td>2017-09-25</td>\n",
              "      <td>2017-09-25</td>\n",
              "      <td>2376333</td>\n",
              "      <td>188502</td>\n",
              "      <td>155.443207</td>\n",
              "      <td>3</td>\n",
              "      <td>online</td>\n",
              "      <td>2732</td>\n",
              "      <td>0.0</td>\n",
              "      <td>51.814400</td>\n",
              "      <td>2017</td>\n",
              "      <td>September</td>\n",
              "      <td>25</td>\n",
              "      <td>Monday</td>\n",
              "      <td>2017-09</td>\n",
              "      <td>86852728.0</td>\n",
              "      <td>86852728.0</td>\n",
              "    </tr>\n",
              "    <tr>\n",
              "      <th>1</th>\n",
              "      <td>2017-09-25</td>\n",
              "      <td>2017-09-25</td>\n",
              "      <td>2520527</td>\n",
              "      <td>835089</td>\n",
              "      <td>16.394400</td>\n",
              "      <td>3</td>\n",
              "      <td>at the store</td>\n",
              "      <td>10279</td>\n",
              "      <td>0.0</td>\n",
              "      <td>5.464800</td>\n",
              "      <td>2017</td>\n",
              "      <td>September</td>\n",
              "      <td>25</td>\n",
              "      <td>Monday</td>\n",
              "      <td>2017-09</td>\n",
              "      <td>86852728.0</td>\n",
              "      <td>86852728.0</td>\n",
              "    </tr>\n",
              "    <tr>\n",
              "      <th>2</th>\n",
              "      <td>2017-09-25</td>\n",
              "      <td>2017-09-25</td>\n",
              "      <td>2536756</td>\n",
              "      <td>1977896</td>\n",
              "      <td>365.766235</td>\n",
              "      <td>21</td>\n",
              "      <td>online</td>\n",
              "      <td>6184</td>\n",
              "      <td>0.0</td>\n",
              "      <td>17.417440</td>\n",
              "      <td>2017</td>\n",
              "      <td>September</td>\n",
              "      <td>25</td>\n",
              "      <td>Monday</td>\n",
              "      <td>2017-09</td>\n",
              "      <td>86852728.0</td>\n",
              "      <td>86852728.0</td>\n",
              "    </tr>\n",
              "    <tr>\n",
              "      <th>3</th>\n",
              "      <td>2017-09-25</td>\n",
              "      <td>2017-09-25</td>\n",
              "      <td>3028673</td>\n",
              "      <td>598816</td>\n",
              "      <td>8.598780</td>\n",
              "      <td>201</td>\n",
              "      <td>at the store</td>\n",
              "      <td>4200</td>\n",
              "      <td>0.0</td>\n",
              "      <td>0.042780</td>\n",
              "      <td>2017</td>\n",
              "      <td>September</td>\n",
              "      <td>25</td>\n",
              "      <td>Monday</td>\n",
              "      <td>2017-09</td>\n",
              "      <td>86852728.0</td>\n",
              "      <td>86852728.0</td>\n",
              "    </tr>\n",
              "    <tr>\n",
              "      <th>4</th>\n",
              "      <td>2017-09-25</td>\n",
              "      <td>2017-09-25</td>\n",
              "      <td>203377</td>\n",
              "      <td>2086861</td>\n",
              "      <td>1093.374023</td>\n",
              "      <td>3</td>\n",
              "      <td>by phone</td>\n",
              "      <td>7051</td>\n",
              "      <td>0.0</td>\n",
              "      <td>364.458008</td>\n",
              "      <td>2017</td>\n",
              "      <td>September</td>\n",
              "      <td>25</td>\n",
              "      <td>Monday</td>\n",
              "      <td>2017-09</td>\n",
              "      <td>86852728.0</td>\n",
              "      <td>86852728.0</td>\n",
              "    </tr>\n",
              "  </tbody>\n",
              "</table>\n",
              "</div>"
            ],
            "text/plain": [
              "  date_order date_invoice  product_id  client_id    sales_net  quantity  \\\n",
              "0 2017-09-25   2017-09-25     2376333     188502   155.443207         3   \n",
              "1 2017-09-25   2017-09-25     2520527     835089    16.394400         3   \n",
              "2 2017-09-25   2017-09-25     2536756    1977896   365.766235        21   \n",
              "3 2017-09-25   2017-09-25     3028673     598816     8.598780       201   \n",
              "4 2017-09-25   2017-09-25      203377    2086861  1093.374023         3   \n",
              "\n",
              "  order_channel  branch_id  invoice_delay  sales_per_quantity  order_year  \\\n",
              "0        online       2732            0.0           51.814400        2017   \n",
              "1  at the store      10279            0.0            5.464800        2017   \n",
              "2        online       6184            0.0           17.417440        2017   \n",
              "3  at the store       4200            0.0            0.042780        2017   \n",
              "4      by phone       7051            0.0          364.458008        2017   \n",
              "\n",
              "  order_month  order_day_month order_day_week order_period  monthly_sales  \\\n",
              "0   September               25         Monday      2017-09     86852728.0   \n",
              "1   September               25         Monday      2017-09     86852728.0   \n",
              "2   September               25         Monday      2017-09     86852728.0   \n",
              "3   September               25         Monday      2017-09     86852728.0   \n",
              "4   September               25         Monday      2017-09     86852728.0   \n",
              "\n",
              "   previous_month_sales  \n",
              "0            86852728.0  \n",
              "1            86852728.0  \n",
              "2            86852728.0  \n",
              "3            86852728.0  \n",
              "4            86852728.0  "
            ]
          },
          "execution_count": 51,
          "metadata": {},
          "output_type": "execute_result"
        }
      ],
      "source": [
        "prices.head()"
      ]
    },
    {
      "cell_type": "code",
      "execution_count": 52,
      "metadata": {
        "colab": {
          "base_uri": "https://localhost:8080/"
        },
        "id": "zzcbQ4vpQ-ED",
        "outputId": "31e98b08-4c6f-4c94-eba4-4ec34382e769"
      },
      "outputs": [],
      "source": [
        "prices.drop(columns=['date_order','date_invoice', 'client_id', 'order_channel', 'branch_id',\n",
        "                     'invoice_delay', 'sales_per_quantity', 'order_year', 'order_month', 'order_day_month', \n",
        "                     'order_day_week', 'order_period', 'monthly_sales', 'previous_month_sales'], inplace=True)"
      ]
    },
    {
      "cell_type": "code",
      "execution_count": 54,
      "metadata": {
        "colab": {
          "base_uri": "https://localhost:8080/",
          "height": 261
        },
        "id": "gcqUIXQyRIJs",
        "outputId": "f8c28ec1-60b3-4cd5-9b8a-1dce64bd532d"
      },
      "outputs": [
        {
          "data": {
            "text/html": [
              "<div>\n",
              "<style scoped>\n",
              "    .dataframe tbody tr th:only-of-type {\n",
              "        vertical-align: middle;\n",
              "    }\n",
              "\n",
              "    .dataframe tbody tr th {\n",
              "        vertical-align: top;\n",
              "    }\n",
              "\n",
              "    .dataframe thead th {\n",
              "        text-align: right;\n",
              "    }\n",
              "</style>\n",
              "<table border=\"1\" class=\"dataframe\">\n",
              "  <thead>\n",
              "    <tr style=\"text-align: right;\">\n",
              "      <th></th>\n",
              "      <th>product_id</th>\n",
              "      <th>sales_net</th>\n",
              "      <th>quantity</th>\n",
              "    </tr>\n",
              "  </thead>\n",
              "  <tbody>\n",
              "    <tr>\n",
              "      <th>0</th>\n",
              "      <td>2376333</td>\n",
              "      <td>155.443207</td>\n",
              "      <td>3</td>\n",
              "    </tr>\n",
              "    <tr>\n",
              "      <th>1</th>\n",
              "      <td>2520527</td>\n",
              "      <td>16.394400</td>\n",
              "      <td>3</td>\n",
              "    </tr>\n",
              "    <tr>\n",
              "      <th>2</th>\n",
              "      <td>2536756</td>\n",
              "      <td>365.766235</td>\n",
              "      <td>21</td>\n",
              "    </tr>\n",
              "    <tr>\n",
              "      <th>3</th>\n",
              "      <td>3028673</td>\n",
              "      <td>8.598780</td>\n",
              "      <td>201</td>\n",
              "    </tr>\n",
              "    <tr>\n",
              "      <th>4</th>\n",
              "      <td>203377</td>\n",
              "      <td>1093.374023</td>\n",
              "      <td>3</td>\n",
              "    </tr>\n",
              "  </tbody>\n",
              "</table>\n",
              "</div>"
            ],
            "text/plain": [
              "   product_id    sales_net  quantity\n",
              "0     2376333   155.443207         3\n",
              "1     2520527    16.394400         3\n",
              "2     2536756   365.766235        21\n",
              "3     3028673     8.598780       201\n",
              "4      203377  1093.374023         3"
            ]
          },
          "execution_count": 54,
          "metadata": {},
          "output_type": "execute_result"
        }
      ],
      "source": [
        "prices = prices[prices['sales_net']>0]\n",
        "prices.head()"
      ]
    },
    {
      "cell_type": "code",
      "execution_count": 55,
      "metadata": {
        "colab": {
          "base_uri": "https://localhost:8080/"
        },
        "id": "ssA7VpIIRLDj",
        "outputId": "c1925bc9-8515-4cc1-a89e-9b5520ab546c"
      },
      "outputs": [],
      "source": [
        "prices['price'] = prices['sales_net']/prices['quantity']"
      ]
    },
    {
      "cell_type": "code",
      "execution_count": 56,
      "metadata": {
        "colab": {
          "base_uri": "https://localhost:8080/",
          "height": 261
        },
        "id": "C9znUG73Raod",
        "outputId": "30742281-ba89-4e97-fa3c-793197ee3548"
      },
      "outputs": [
        {
          "data": {
            "text/html": [
              "<div>\n",
              "<style scoped>\n",
              "    .dataframe tbody tr th:only-of-type {\n",
              "        vertical-align: middle;\n",
              "    }\n",
              "\n",
              "    .dataframe tbody tr th {\n",
              "        vertical-align: top;\n",
              "    }\n",
              "\n",
              "    .dataframe thead th {\n",
              "        text-align: right;\n",
              "    }\n",
              "</style>\n",
              "<table border=\"1\" class=\"dataframe\">\n",
              "  <thead>\n",
              "    <tr style=\"text-align: right;\">\n",
              "      <th></th>\n",
              "      <th>product_id</th>\n",
              "      <th>price</th>\n",
              "    </tr>\n",
              "  </thead>\n",
              "  <tbody>\n",
              "    <tr>\n",
              "      <th>0</th>\n",
              "      <td>2376333</td>\n",
              "      <td>51.814402</td>\n",
              "    </tr>\n",
              "    <tr>\n",
              "      <th>1</th>\n",
              "      <td>2520527</td>\n",
              "      <td>5.464800</td>\n",
              "    </tr>\n",
              "    <tr>\n",
              "      <th>2</th>\n",
              "      <td>2536756</td>\n",
              "      <td>17.417440</td>\n",
              "    </tr>\n",
              "    <tr>\n",
              "      <th>3</th>\n",
              "      <td>3028673</td>\n",
              "      <td>0.042780</td>\n",
              "    </tr>\n",
              "    <tr>\n",
              "      <th>4</th>\n",
              "      <td>203377</td>\n",
              "      <td>364.458008</td>\n",
              "    </tr>\n",
              "  </tbody>\n",
              "</table>\n",
              "</div>"
            ],
            "text/plain": [
              "   product_id       price\n",
              "0     2376333   51.814402\n",
              "1     2520527    5.464800\n",
              "2     2536756   17.417440\n",
              "3     3028673    0.042780\n",
              "4      203377  364.458008"
            ]
          },
          "execution_count": 56,
          "metadata": {},
          "output_type": "execute_result"
        }
      ],
      "source": [
        "prices.drop(columns=['sales_net', 'quantity'], inplace=True)\n",
        "prices.head()"
      ]
    },
    {
      "cell_type": "code",
      "execution_count": 57,
      "metadata": {
        "colab": {
          "base_uri": "https://localhost:8080/",
          "height": 261
        },
        "id": "K6LfXioeRksM",
        "outputId": "310ac136-9436-491d-d356-9af0a6db6254"
      },
      "outputs": [
        {
          "data": {
            "text/html": [
              "<div>\n",
              "<style scoped>\n",
              "    .dataframe tbody tr th:only-of-type {\n",
              "        vertical-align: middle;\n",
              "    }\n",
              "\n",
              "    .dataframe tbody tr th {\n",
              "        vertical-align: top;\n",
              "    }\n",
              "\n",
              "    .dataframe thead th {\n",
              "        text-align: right;\n",
              "    }\n",
              "</style>\n",
              "<table border=\"1\" class=\"dataframe\">\n",
              "  <thead>\n",
              "    <tr style=\"text-align: right;\">\n",
              "      <th></th>\n",
              "      <th>product_id</th>\n",
              "      <th>price</th>\n",
              "    </tr>\n",
              "  </thead>\n",
              "  <tbody>\n",
              "    <tr>\n",
              "      <th>0</th>\n",
              "      <td>15</td>\n",
              "      <td>0.213415</td>\n",
              "    </tr>\n",
              "    <tr>\n",
              "      <th>1</th>\n",
              "      <td>23</td>\n",
              "      <td>25.354433</td>\n",
              "    </tr>\n",
              "    <tr>\n",
              "      <th>2</th>\n",
              "      <td>28</td>\n",
              "      <td>2657.898405</td>\n",
              "    </tr>\n",
              "    <tr>\n",
              "      <th>3</th>\n",
              "      <td>39</td>\n",
              "      <td>4.811600</td>\n",
              "    </tr>\n",
              "    <tr>\n",
              "      <th>4</th>\n",
              "      <td>42</td>\n",
              "      <td>260.783203</td>\n",
              "    </tr>\n",
              "  </tbody>\n",
              "</table>\n",
              "</div>"
            ],
            "text/plain": [
              "   product_id        price\n",
              "0          15     0.213415\n",
              "1          23    25.354433\n",
              "2          28  2657.898405\n",
              "3          39     4.811600\n",
              "4          42   260.783203"
            ]
          },
          "execution_count": 57,
          "metadata": {},
          "output_type": "execute_result"
        }
      ],
      "source": [
        "product_prices = prices.groupby('product_id')[['price']].mean().reset_index()\n",
        "product_prices.head()"
      ]
    },
    {
      "cell_type": "code",
      "execution_count": 58,
      "metadata": {
        "colab": {
          "base_uri": "https://localhost:8080/"
        },
        "id": "xLwnF_z0R7sC",
        "outputId": "68150342-dfec-4282-9323-c864c126b117"
      },
      "outputs": [],
      "source": [
        "product_prices.to_csv('data/product_prices.csv')"
      ]
    },
    {
      "cell_type": "markdown",
      "metadata": {
        "id": "9aJFVWZ5GDdx"
      },
      "source": [
        "#### 5.2 Identifying Opportunities for Cross-selling"
      ]
    },
    {
      "cell_type": "markdown",
      "metadata": {
        "id": "hZRocEfmIv4u"
      },
      "source": [
        "To identify the opportunities for cross-selling we create some rules based on support, lift and confidence for the products and for the rules.\n",
        "\n",
        "The rules we made are the following:\n",
        "- Confidence > 0.5: This is because we only want to recommend products that there is a reasonable chance the customer might want.\n",
        "- Lift > 1.2: The reason for similar to the first. This is an indication that given the antecedent there is an increased chance the customer will want the consequent.\n",
        "- Consequent support < 0.2: This is because we don't want to suggest the most products that are too common. This is because the client most likely would have chosen the product if they wanted it. The point of the cross-selling is to recommend products that the customer might want, but have not thought of.\n",
        "- The products are all from segment A, and it is only the 50 products with the highest sales. From this we deducted that none of the product will be too niche.\n",
        "\n",
        "\n",
        "To put a monetary value on the cross-selling we created a column called expected value. The expected value is the price of the consequent multiplied with the confidence of the rule. The rationale behind this is that since confidence measures the likelihood that item B is purchased when item A is purchased, we assume that suggesting the consequent will be successful at the same rate as the confidence. This is of course a simplification, but it serves as a estimate."
      ]
    },
    {
      "cell_type": "code",
      "execution_count": 59,
      "metadata": {
        "colab": {
          "base_uri": "https://localhost:8080/"
        },
        "id": "KjaZ9fifWuVX",
        "outputId": "b765ddd2-feb2-4a24-f2a6-d44b69adfead"
      },
      "outputs": [],
      "source": [
        "rules = pd.read_csv('data/rules.csv')\n",
        "product_prices = pd.read_csv('data/product_prices.csv')"
      ]
    },
    {
      "cell_type": "code",
      "execution_count": 60,
      "metadata": {
        "colab": {
          "base_uri": "https://localhost:8080/",
          "height": 261
        },
        "id": "2zL3blU_W13I",
        "outputId": "4ff0225b-a7dd-4efb-9b5e-ada4bcd90884"
      },
      "outputs": [
        {
          "data": {
            "text/html": [
              "<div>\n",
              "<style scoped>\n",
              "    .dataframe tbody tr th:only-of-type {\n",
              "        vertical-align: middle;\n",
              "    }\n",
              "\n",
              "    .dataframe tbody tr th {\n",
              "        vertical-align: top;\n",
              "    }\n",
              "\n",
              "    .dataframe thead th {\n",
              "        text-align: right;\n",
              "    }\n",
              "</style>\n",
              "<table border=\"1\" class=\"dataframe\">\n",
              "  <thead>\n",
              "    <tr style=\"text-align: right;\">\n",
              "      <th></th>\n",
              "      <th>Unnamed: 0</th>\n",
              "      <th>antecedents</th>\n",
              "      <th>consequents</th>\n",
              "      <th>antecedent support</th>\n",
              "      <th>consequent support</th>\n",
              "      <th>support</th>\n",
              "      <th>confidence</th>\n",
              "      <th>lift</th>\n",
              "      <th>leverage</th>\n",
              "      <th>conviction</th>\n",
              "      <th>zhangs_metric</th>\n",
              "    </tr>\n",
              "  </thead>\n",
              "  <tbody>\n",
              "    <tr>\n",
              "      <th>0</th>\n",
              "      <td>0</td>\n",
              "      <td>frozenset({11100})</td>\n",
              "      <td>frozenset({85044})</td>\n",
              "      <td>0.024187</td>\n",
              "      <td>0.013344</td>\n",
              "      <td>0.002502</td>\n",
              "      <td>0.103448</td>\n",
              "      <td>7.752155</td>\n",
              "      <td>0.002179</td>\n",
              "      <td>1.100500</td>\n",
              "      <td>0.892593</td>\n",
              "    </tr>\n",
              "    <tr>\n",
              "      <th>1</th>\n",
              "      <td>1</td>\n",
              "      <td>frozenset({85044})</td>\n",
              "      <td>frozenset({11100})</td>\n",
              "      <td>0.013344</td>\n",
              "      <td>0.024187</td>\n",
              "      <td>0.002502</td>\n",
              "      <td>0.187500</td>\n",
              "      <td>7.752155</td>\n",
              "      <td>0.002179</td>\n",
              "      <td>1.201001</td>\n",
              "      <td>0.882784</td>\n",
              "    </tr>\n",
              "    <tr>\n",
              "      <th>2</th>\n",
              "      <td>2</td>\n",
              "      <td>frozenset({246256})</td>\n",
              "      <td>frozenset({11100})</td>\n",
              "      <td>0.015013</td>\n",
              "      <td>0.024187</td>\n",
              "      <td>0.002502</td>\n",
              "      <td>0.166667</td>\n",
              "      <td>6.890805</td>\n",
              "      <td>0.002139</td>\n",
              "      <td>1.170976</td>\n",
              "      <td>0.867909</td>\n",
              "    </tr>\n",
              "    <tr>\n",
              "      <th>3</th>\n",
              "      <td>3</td>\n",
              "      <td>frozenset({11100})</td>\n",
              "      <td>frozenset({246256})</td>\n",
              "      <td>0.024187</td>\n",
              "      <td>0.015013</td>\n",
              "      <td>0.002502</td>\n",
              "      <td>0.103448</td>\n",
              "      <td>6.890805</td>\n",
              "      <td>0.002139</td>\n",
              "      <td>1.098640</td>\n",
              "      <td>0.876068</td>\n",
              "    </tr>\n",
              "    <tr>\n",
              "      <th>4</th>\n",
              "      <td>4</td>\n",
              "      <td>frozenset({11100})</td>\n",
              "      <td>frozenset({378845})</td>\n",
              "      <td>0.024187</td>\n",
              "      <td>0.057131</td>\n",
              "      <td>0.002085</td>\n",
              "      <td>0.086207</td>\n",
              "      <td>1.508935</td>\n",
              "      <td>0.000703</td>\n",
              "      <td>1.031819</td>\n",
              "      <td>0.345641</td>\n",
              "    </tr>\n",
              "  </tbody>\n",
              "</table>\n",
              "</div>"
            ],
            "text/plain": [
              "   Unnamed: 0          antecedents          consequents  antecedent support  \\\n",
              "0           0   frozenset({11100})   frozenset({85044})            0.024187   \n",
              "1           1   frozenset({85044})   frozenset({11100})            0.013344   \n",
              "2           2  frozenset({246256})   frozenset({11100})            0.015013   \n",
              "3           3   frozenset({11100})  frozenset({246256})            0.024187   \n",
              "4           4   frozenset({11100})  frozenset({378845})            0.024187   \n",
              "\n",
              "   consequent support   support  confidence      lift  leverage  conviction  \\\n",
              "0            0.013344  0.002502    0.103448  7.752155  0.002179    1.100500   \n",
              "1            0.024187  0.002502    0.187500  7.752155  0.002179    1.201001   \n",
              "2            0.024187  0.002502    0.166667  6.890805  0.002139    1.170976   \n",
              "3            0.015013  0.002502    0.103448  6.890805  0.002139    1.098640   \n",
              "4            0.057131  0.002085    0.086207  1.508935  0.000703    1.031819   \n",
              "\n",
              "   zhangs_metric  \n",
              "0       0.892593  \n",
              "1       0.882784  \n",
              "2       0.867909  \n",
              "3       0.876068  \n",
              "4       0.345641  "
            ]
          },
          "execution_count": 60,
          "metadata": {},
          "output_type": "execute_result"
        }
      ],
      "source": [
        "rules.head()"
      ]
    },
    {
      "cell_type": "code",
      "execution_count": 61,
      "metadata": {
        "colab": {
          "base_uri": "https://localhost:8080/"
        },
        "id": "98oIPt0zWFZT",
        "outputId": "51e44853-d878-44d0-e6c5-2edf145e3a61"
      },
      "outputs": [],
      "source": [
        "#The antecedents and consequents stored in frozen sets. We need to extract the numbers.\n",
        "def extract_number(s):\n",
        "    return re.findall(r'\\d+', s)[0]\n",
        "\n",
        "rules['antecedents'] = rules['antecedents'].apply(extract_number)\n",
        "rules['consequents'] = rules['consequents'].apply(extract_number)\n"
      ]
    },
    {
      "cell_type": "code",
      "execution_count": 62,
      "metadata": {
        "colab": {
          "base_uri": "https://localhost:8080/",
          "height": 278
        },
        "id": "jcYN0RmrdL1M",
        "outputId": "a7758834-960c-41d5-c096-c1cf94190157"
      },
      "outputs": [
        {
          "data": {
            "text/html": [
              "<div>\n",
              "<style scoped>\n",
              "    .dataframe tbody tr th:only-of-type {\n",
              "        vertical-align: middle;\n",
              "    }\n",
              "\n",
              "    .dataframe tbody tr th {\n",
              "        vertical-align: top;\n",
              "    }\n",
              "\n",
              "    .dataframe thead th {\n",
              "        text-align: right;\n",
              "    }\n",
              "</style>\n",
              "<table border=\"1\" class=\"dataframe\">\n",
              "  <thead>\n",
              "    <tr style=\"text-align: right;\">\n",
              "      <th></th>\n",
              "      <th>Unnamed: 0_x</th>\n",
              "      <th>antecedents</th>\n",
              "      <th>consequents</th>\n",
              "      <th>antecedent support</th>\n",
              "      <th>consequent support</th>\n",
              "      <th>support</th>\n",
              "      <th>confidence</th>\n",
              "      <th>lift</th>\n",
              "      <th>leverage</th>\n",
              "      <th>conviction</th>\n",
              "      <th>zhangs_metric</th>\n",
              "      <th>Unnamed: 0_y</th>\n",
              "      <th>product_id_x</th>\n",
              "      <th>antecedent_price</th>\n",
              "      <th>Unnamed: 0</th>\n",
              "      <th>product_id_y</th>\n",
              "      <th>consequent_price</th>\n",
              "    </tr>\n",
              "  </thead>\n",
              "  <tbody>\n",
              "    <tr>\n",
              "      <th>0</th>\n",
              "      <td>0</td>\n",
              "      <td>11100</td>\n",
              "      <td>85044</td>\n",
              "      <td>0.024187</td>\n",
              "      <td>0.013344</td>\n",
              "      <td>0.002502</td>\n",
              "      <td>0.103448</td>\n",
              "      <td>7.752155</td>\n",
              "      <td>0.002179</td>\n",
              "      <td>1.100500</td>\n",
              "      <td>0.892593</td>\n",
              "      <td>2009</td>\n",
              "      <td>11100</td>\n",
              "      <td>128.066813</td>\n",
              "      <td>15733</td>\n",
              "      <td>85044</td>\n",
              "      <td>114.956422</td>\n",
              "    </tr>\n",
              "    <tr>\n",
              "      <th>1</th>\n",
              "      <td>1</td>\n",
              "      <td>85044</td>\n",
              "      <td>11100</td>\n",
              "      <td>0.013344</td>\n",
              "      <td>0.024187</td>\n",
              "      <td>0.002502</td>\n",
              "      <td>0.187500</td>\n",
              "      <td>7.752155</td>\n",
              "      <td>0.002179</td>\n",
              "      <td>1.201001</td>\n",
              "      <td>0.882784</td>\n",
              "      <td>15733</td>\n",
              "      <td>85044</td>\n",
              "      <td>114.956422</td>\n",
              "      <td>2009</td>\n",
              "      <td>11100</td>\n",
              "      <td>128.066813</td>\n",
              "    </tr>\n",
              "    <tr>\n",
              "      <th>2</th>\n",
              "      <td>2</td>\n",
              "      <td>246256</td>\n",
              "      <td>11100</td>\n",
              "      <td>0.015013</td>\n",
              "      <td>0.024187</td>\n",
              "      <td>0.002502</td>\n",
              "      <td>0.166667</td>\n",
              "      <td>6.890805</td>\n",
              "      <td>0.002139</td>\n",
              "      <td>1.170976</td>\n",
              "      <td>0.867909</td>\n",
              "      <td>45736</td>\n",
              "      <td>246256</td>\n",
              "      <td>92.974555</td>\n",
              "      <td>2009</td>\n",
              "      <td>11100</td>\n",
              "      <td>128.066813</td>\n",
              "    </tr>\n",
              "    <tr>\n",
              "      <th>3</th>\n",
              "      <td>3</td>\n",
              "      <td>11100</td>\n",
              "      <td>246256</td>\n",
              "      <td>0.024187</td>\n",
              "      <td>0.015013</td>\n",
              "      <td>0.002502</td>\n",
              "      <td>0.103448</td>\n",
              "      <td>6.890805</td>\n",
              "      <td>0.002139</td>\n",
              "      <td>1.098640</td>\n",
              "      <td>0.876068</td>\n",
              "      <td>2009</td>\n",
              "      <td>11100</td>\n",
              "      <td>128.066813</td>\n",
              "      <td>45736</td>\n",
              "      <td>246256</td>\n",
              "      <td>92.974555</td>\n",
              "    </tr>\n",
              "    <tr>\n",
              "      <th>4</th>\n",
              "      <td>4</td>\n",
              "      <td>11100</td>\n",
              "      <td>378845</td>\n",
              "      <td>0.024187</td>\n",
              "      <td>0.057131</td>\n",
              "      <td>0.002085</td>\n",
              "      <td>0.086207</td>\n",
              "      <td>1.508935</td>\n",
              "      <td>0.000703</td>\n",
              "      <td>1.031819</td>\n",
              "      <td>0.345641</td>\n",
              "      <td>2009</td>\n",
              "      <td>11100</td>\n",
              "      <td>128.066813</td>\n",
              "      <td>70602</td>\n",
              "      <td>378845</td>\n",
              "      <td>1.752879</td>\n",
              "    </tr>\n",
              "  </tbody>\n",
              "</table>\n",
              "</div>"
            ],
            "text/plain": [
              "   Unnamed: 0_x  antecedents  consequents  antecedent support  \\\n",
              "0             0        11100        85044            0.024187   \n",
              "1             1        85044        11100            0.013344   \n",
              "2             2       246256        11100            0.015013   \n",
              "3             3        11100       246256            0.024187   \n",
              "4             4        11100       378845            0.024187   \n",
              "\n",
              "   consequent support   support  confidence      lift  leverage  conviction  \\\n",
              "0            0.013344  0.002502    0.103448  7.752155  0.002179    1.100500   \n",
              "1            0.024187  0.002502    0.187500  7.752155  0.002179    1.201001   \n",
              "2            0.024187  0.002502    0.166667  6.890805  0.002139    1.170976   \n",
              "3            0.015013  0.002502    0.103448  6.890805  0.002139    1.098640   \n",
              "4            0.057131  0.002085    0.086207  1.508935  0.000703    1.031819   \n",
              "\n",
              "   zhangs_metric  Unnamed: 0_y  product_id_x  antecedent_price  Unnamed: 0  \\\n",
              "0       0.892593          2009         11100        128.066813       15733   \n",
              "1       0.882784         15733         85044        114.956422        2009   \n",
              "2       0.867909         45736        246256         92.974555        2009   \n",
              "3       0.876068          2009         11100        128.066813       45736   \n",
              "4       0.345641          2009         11100        128.066813       70602   \n",
              "\n",
              "   product_id_y  consequent_price  \n",
              "0         85044        114.956422  \n",
              "1         11100        128.066813  \n",
              "2         11100        128.066813  \n",
              "3        246256         92.974555  \n",
              "4        378845          1.752879  "
            ]
          },
          "execution_count": 62,
          "metadata": {},
          "output_type": "execute_result"
        }
      ],
      "source": [
        "#We have to convert the antecedents and consequents to integers to merge them with the prices.\n",
        "rules['antecedents'] = rules['antecedents'].astype(int)\n",
        "rules['consequents'] = rules['consequents'].astype(int)\n",
        "\n",
        "rules = rules.merge(product_prices, left_on='antecedents', right_on='product_id', how='left').rename(columns={'price': 'antecedent_price'})\n",
        "rules = rules.merge(product_prices, left_on='consequents', right_on='product_id', how='left').rename(columns={'price': 'consequent_price'})\n",
        "rules.head()"
      ]
    },
    {
      "cell_type": "code",
      "execution_count": 63,
      "metadata": {
        "colab": {
          "base_uri": "https://localhost:8080/"
        },
        "id": "30kCV4O0ndq-",
        "outputId": "25098927-e44e-4ede-c798-5f901a496a70"
      },
      "outputs": [],
      "source": [
        "rules.drop(columns=['Unnamed: 0_x', 'Unnamed: 0_y', 'product_id_x', 'product_id_y', 'Unnamed: 0'], inplace=True)"
      ]
    },
    {
      "cell_type": "code",
      "execution_count": 64,
      "metadata": {
        "colab": {
          "base_uri": "https://localhost:8080/",
          "height": 382
        },
        "id": "-slNpRJ4jizM",
        "outputId": "988a2dd1-c6eb-4e76-94d4-bfec5386e946"
      },
      "outputs": [
        {
          "name": "stderr",
          "output_type": "stream",
          "text": [
            "C:\\Users\\Inas\\AppData\\Local\\Temp\\ipykernel_24572\\3096664025.py:10: SettingWithCopyWarning: \n",
            "A value is trying to be set on a copy of a slice from a DataFrame.\n",
            "Try using .loc[row_indexer,col_indexer] = value instead\n",
            "\n",
            "See the caveats in the documentation: https://pandas.pydata.org/pandas-docs/stable/user_guide/indexing.html#returning-a-view-versus-a-copy\n",
            "  cross_sell_opportunities['expected_return'] = cross_sell_opportunities['consequent_price'] * cross_sell_opportunities['confidence']\n"
          ]
        },
        {
          "data": {
            "text/html": [
              "<div>\n",
              "<style scoped>\n",
              "    .dataframe tbody tr th:only-of-type {\n",
              "        vertical-align: middle;\n",
              "    }\n",
              "\n",
              "    .dataframe tbody tr th {\n",
              "        vertical-align: top;\n",
              "    }\n",
              "\n",
              "    .dataframe thead th {\n",
              "        text-align: right;\n",
              "    }\n",
              "</style>\n",
              "<table border=\"1\" class=\"dataframe\">\n",
              "  <thead>\n",
              "    <tr style=\"text-align: right;\">\n",
              "      <th></th>\n",
              "      <th>antecedents</th>\n",
              "      <th>consequents</th>\n",
              "      <th>antecedent support</th>\n",
              "      <th>consequent support</th>\n",
              "      <th>support</th>\n",
              "      <th>confidence</th>\n",
              "      <th>lift</th>\n",
              "      <th>leverage</th>\n",
              "      <th>conviction</th>\n",
              "      <th>zhangs_metric</th>\n",
              "      <th>antecedent_price</th>\n",
              "      <th>consequent_price</th>\n",
              "      <th>is_cross_sell</th>\n",
              "      <th>expected_return</th>\n",
              "    </tr>\n",
              "  </thead>\n",
              "  <tbody>\n",
              "    <tr>\n",
              "      <th>32458</th>\n",
              "      <td>1390401</td>\n",
              "      <td>579087</td>\n",
              "      <td>0.001668</td>\n",
              "      <td>0.012510</td>\n",
              "      <td>0.001251</td>\n",
              "      <td>0.75</td>\n",
              "      <td>59.9500</td>\n",
              "      <td>0.001230</td>\n",
              "      <td>3.949958</td>\n",
              "      <td>0.984962</td>\n",
              "      <td>0.997061</td>\n",
              "      <td>157.245503</td>\n",
              "      <td>True</td>\n",
              "      <td>117.934128</td>\n",
              "    </tr>\n",
              "    <tr>\n",
              "      <th>102304</th>\n",
              "      <td>1390401</td>\n",
              "      <td>579087</td>\n",
              "      <td>0.001668</td>\n",
              "      <td>0.012510</td>\n",
              "      <td>0.001251</td>\n",
              "      <td>0.75</td>\n",
              "      <td>59.9500</td>\n",
              "      <td>0.001230</td>\n",
              "      <td>3.949958</td>\n",
              "      <td>0.984962</td>\n",
              "      <td>0.997061</td>\n",
              "      <td>157.245503</td>\n",
              "      <td>True</td>\n",
              "      <td>117.934128</td>\n",
              "    </tr>\n",
              "    <tr>\n",
              "      <th>28014</th>\n",
              "      <td>915256</td>\n",
              "      <td>579087</td>\n",
              "      <td>0.001668</td>\n",
              "      <td>0.012510</td>\n",
              "      <td>0.001251</td>\n",
              "      <td>0.75</td>\n",
              "      <td>59.9500</td>\n",
              "      <td>0.001230</td>\n",
              "      <td>3.949958</td>\n",
              "      <td>0.984962</td>\n",
              "      <td>0.570204</td>\n",
              "      <td>157.245503</td>\n",
              "      <td>True</td>\n",
              "      <td>117.934128</td>\n",
              "    </tr>\n",
              "    <tr>\n",
              "      <th>57096</th>\n",
              "      <td>915256</td>\n",
              "      <td>579087</td>\n",
              "      <td>0.001668</td>\n",
              "      <td>0.012510</td>\n",
              "      <td>0.001251</td>\n",
              "      <td>0.75</td>\n",
              "      <td>59.9500</td>\n",
              "      <td>0.001230</td>\n",
              "      <td>3.949958</td>\n",
              "      <td>0.984962</td>\n",
              "      <td>0.570204</td>\n",
              "      <td>157.245503</td>\n",
              "      <td>True</td>\n",
              "      <td>117.934128</td>\n",
              "    </tr>\n",
              "    <tr>\n",
              "      <th>1971</th>\n",
              "      <td>59473</td>\n",
              "      <td>85044</td>\n",
              "      <td>0.001251</td>\n",
              "      <td>0.013344</td>\n",
              "      <td>0.001251</td>\n",
              "      <td>1.00</td>\n",
              "      <td>74.9375</td>\n",
              "      <td>0.001234</td>\n",
              "      <td>inf</td>\n",
              "      <td>0.987891</td>\n",
              "      <td>136.885747</td>\n",
              "      <td>114.956422</td>\n",
              "      <td>True</td>\n",
              "      <td>114.956422</td>\n",
              "    </tr>\n",
              "  </tbody>\n",
              "</table>\n",
              "</div>"
            ],
            "text/plain": [
              "        antecedents  consequents  antecedent support  consequent support  \\\n",
              "32458       1390401       579087            0.001668            0.012510   \n",
              "102304      1390401       579087            0.001668            0.012510   \n",
              "28014        915256       579087            0.001668            0.012510   \n",
              "57096        915256       579087            0.001668            0.012510   \n",
              "1971          59473        85044            0.001251            0.013344   \n",
              "\n",
              "         support  confidence     lift  leverage  conviction  zhangs_metric  \\\n",
              "32458   0.001251        0.75  59.9500  0.001230    3.949958       0.984962   \n",
              "102304  0.001251        0.75  59.9500  0.001230    3.949958       0.984962   \n",
              "28014   0.001251        0.75  59.9500  0.001230    3.949958       0.984962   \n",
              "57096   0.001251        0.75  59.9500  0.001230    3.949958       0.984962   \n",
              "1971    0.001251        1.00  74.9375  0.001234         inf       0.987891   \n",
              "\n",
              "        antecedent_price  consequent_price  is_cross_sell  expected_return  \n",
              "32458           0.997061        157.245503           True       117.934128  \n",
              "102304          0.997061        157.245503           True       117.934128  \n",
              "28014           0.570204        157.245503           True       117.934128  \n",
              "57096           0.570204        157.245503           True       117.934128  \n",
              "1971          136.885747        114.956422           True       114.956422  "
            ]
          },
          "execution_count": 64,
          "metadata": {},
          "output_type": "execute_result"
        }
      ],
      "source": [
        "# Identify cross-sell opportunities based on confidence and lift\n",
        "rules['is_cross_sell'] = (\n",
        "    (rules['confidence'] > 0.5) &\n",
        "    (rules['lift'] > 1.2) &\n",
        "    (rules['consequent support'] < 0.2))\n",
        "\n",
        "\n",
        "# Filter for cross-sell opportunities\n",
        "cross_sell_opportunities = rules[rules['is_cross_sell']]\n",
        "cross_sell_opportunities['expected_return'] = cross_sell_opportunities['consequent_price'] * cross_sell_opportunities['confidence']\n",
        "\n",
        "cross_sell_opportunities = cross_sell_opportunities.sort_values(by='expected_return', ascending=False)\n",
        "\n",
        "cross_sell_opportunities.head()\n"
      ]
    },
    {
      "cell_type": "code",
      "execution_count": 65,
      "metadata": {
        "colab": {
          "base_uri": "https://localhost:8080/"
        },
        "id": "El28DytGp2lb",
        "outputId": "d4f170aa-b252-42ed-b319-1549cf5d19ae"
      },
      "outputs": [],
      "source": [
        "cross_sell_opportunities.to_csv('data/cross_sell_opportunities.csv')"
      ]
    },
    {
      "cell_type": "markdown",
      "metadata": {
        "id": "J4T-7UpeOzjf"
      },
      "source": [
        "Improvements:\n",
        "- Differences between customer segments\n",
        "- Differences between order channels"
      ]
    },
    {
      "cell_type": "markdown",
      "metadata": {
        "id": "p-x9gB9V_nsW"
      },
      "source": [
        "\n",
        "#### 5.3 Finacial Impact of Cross-Selling\n"
      ]
    },
    {
      "cell_type": "markdown",
      "metadata": {},
      "source": [
        "When we have the cross-selling opportunities and the expected return, we can make an estimation of what the financial impact will be from implementing a system for cross-selling.\n",
        "\n",
        "To do this we found for each product, the consequent with the highest expected return, which is the product we want to suggest.\n",
        "\n",
        "We then checked for a each product in each transaction (items purchased by a client within the same day) in the sampled transactions if the suggested consequent was in the basket. If the consequent was not in the basket we then increased the revenue with the expected return. Note: For this part we utilized ChatGPT.\n",
        "\n",
        "For each product we only check if the consequent with the highest expected return is in the transaction. This means that the client could have bought a substitute for the consequent. Since we do not have more information about the product we made an assumption that the customer did not buy a substitute product."
      ]
    },
    {
      "cell_type": "code",
      "execution_count": 66,
      "metadata": {
        "colab": {
          "base_uri": "https://localhost:8080/"
        },
        "id": "hkbZW33S_vx9",
        "outputId": "900d9d91-dfb5-457b-a641-7b70c383144a"
      },
      "outputs": [],
      "source": [
        "data = pd.read_csv('data/cross_sell_opportunities.csv')"
      ]
    },
    {
      "cell_type": "code",
      "execution_count": 67,
      "metadata": {
        "colab": {
          "base_uri": "https://localhost:8080/"
        },
        "id": "pHvxTzKFQV8Y",
        "outputId": "299540ff-23fb-44e4-fd95-e1c787b80d8d"
      },
      "outputs": [],
      "source": [
        "trans_sample = pd.read_parquet('data/trans_sample.parquet')"
      ]
    },
    {
      "cell_type": "code",
      "execution_count": 68,
      "metadata": {
        "colab": {
          "base_uri": "https://localhost:8080/",
          "height": 278
        },
        "id": "wml5pPtD_4wu",
        "outputId": "f98eb381-7c97-41e3-c71c-0eb906afa724"
      },
      "outputs": [
        {
          "data": {
            "text/html": [
              "<div>\n",
              "<style scoped>\n",
              "    .dataframe tbody tr th:only-of-type {\n",
              "        vertical-align: middle;\n",
              "    }\n",
              "\n",
              "    .dataframe tbody tr th {\n",
              "        vertical-align: top;\n",
              "    }\n",
              "\n",
              "    .dataframe thead th {\n",
              "        text-align: right;\n",
              "    }\n",
              "</style>\n",
              "<table border=\"1\" class=\"dataframe\">\n",
              "  <thead>\n",
              "    <tr style=\"text-align: right;\">\n",
              "      <th></th>\n",
              "      <th>Unnamed: 0</th>\n",
              "      <th>antecedents</th>\n",
              "      <th>consequents</th>\n",
              "      <th>antecedent support</th>\n",
              "      <th>consequent support</th>\n",
              "      <th>support</th>\n",
              "      <th>confidence</th>\n",
              "      <th>lift</th>\n",
              "      <th>leverage</th>\n",
              "      <th>conviction</th>\n",
              "      <th>zhangs_metric</th>\n",
              "      <th>antecedent_price</th>\n",
              "      <th>consequent_price</th>\n",
              "      <th>is_cross_sell</th>\n",
              "      <th>expected_return</th>\n",
              "    </tr>\n",
              "  </thead>\n",
              "  <tbody>\n",
              "    <tr>\n",
              "      <th>0</th>\n",
              "      <td>32458</td>\n",
              "      <td>1390401</td>\n",
              "      <td>579087</td>\n",
              "      <td>0.001668</td>\n",
              "      <td>0.012510</td>\n",
              "      <td>0.001251</td>\n",
              "      <td>0.75</td>\n",
              "      <td>59.9500</td>\n",
              "      <td>0.001230</td>\n",
              "      <td>3.949958</td>\n",
              "      <td>0.984962</td>\n",
              "      <td>0.997061</td>\n",
              "      <td>157.245503</td>\n",
              "      <td>True</td>\n",
              "      <td>117.934128</td>\n",
              "    </tr>\n",
              "    <tr>\n",
              "      <th>1</th>\n",
              "      <td>102304</td>\n",
              "      <td>1390401</td>\n",
              "      <td>579087</td>\n",
              "      <td>0.001668</td>\n",
              "      <td>0.012510</td>\n",
              "      <td>0.001251</td>\n",
              "      <td>0.75</td>\n",
              "      <td>59.9500</td>\n",
              "      <td>0.001230</td>\n",
              "      <td>3.949958</td>\n",
              "      <td>0.984962</td>\n",
              "      <td>0.997061</td>\n",
              "      <td>157.245503</td>\n",
              "      <td>True</td>\n",
              "      <td>117.934128</td>\n",
              "    </tr>\n",
              "    <tr>\n",
              "      <th>2</th>\n",
              "      <td>28014</td>\n",
              "      <td>915256</td>\n",
              "      <td>579087</td>\n",
              "      <td>0.001668</td>\n",
              "      <td>0.012510</td>\n",
              "      <td>0.001251</td>\n",
              "      <td>0.75</td>\n",
              "      <td>59.9500</td>\n",
              "      <td>0.001230</td>\n",
              "      <td>3.949958</td>\n",
              "      <td>0.984962</td>\n",
              "      <td>0.570204</td>\n",
              "      <td>157.245503</td>\n",
              "      <td>True</td>\n",
              "      <td>117.934128</td>\n",
              "    </tr>\n",
              "    <tr>\n",
              "      <th>3</th>\n",
              "      <td>57096</td>\n",
              "      <td>915256</td>\n",
              "      <td>579087</td>\n",
              "      <td>0.001668</td>\n",
              "      <td>0.012510</td>\n",
              "      <td>0.001251</td>\n",
              "      <td>0.75</td>\n",
              "      <td>59.9500</td>\n",
              "      <td>0.001230</td>\n",
              "      <td>3.949958</td>\n",
              "      <td>0.984962</td>\n",
              "      <td>0.570204</td>\n",
              "      <td>157.245503</td>\n",
              "      <td>True</td>\n",
              "      <td>117.934128</td>\n",
              "    </tr>\n",
              "    <tr>\n",
              "      <th>4</th>\n",
              "      <td>1971</td>\n",
              "      <td>59473</td>\n",
              "      <td>85044</td>\n",
              "      <td>0.001251</td>\n",
              "      <td>0.013344</td>\n",
              "      <td>0.001251</td>\n",
              "      <td>1.00</td>\n",
              "      <td>74.9375</td>\n",
              "      <td>0.001234</td>\n",
              "      <td>inf</td>\n",
              "      <td>0.987891</td>\n",
              "      <td>136.885747</td>\n",
              "      <td>114.956422</td>\n",
              "      <td>True</td>\n",
              "      <td>114.956422</td>\n",
              "    </tr>\n",
              "  </tbody>\n",
              "</table>\n",
              "</div>"
            ],
            "text/plain": [
              "   Unnamed: 0  antecedents  consequents  antecedent support  \\\n",
              "0       32458      1390401       579087            0.001668   \n",
              "1      102304      1390401       579087            0.001668   \n",
              "2       28014       915256       579087            0.001668   \n",
              "3       57096       915256       579087            0.001668   \n",
              "4        1971        59473        85044            0.001251   \n",
              "\n",
              "   consequent support   support  confidence     lift  leverage  conviction  \\\n",
              "0            0.012510  0.001251        0.75  59.9500  0.001230    3.949958   \n",
              "1            0.012510  0.001251        0.75  59.9500  0.001230    3.949958   \n",
              "2            0.012510  0.001251        0.75  59.9500  0.001230    3.949958   \n",
              "3            0.012510  0.001251        0.75  59.9500  0.001230    3.949958   \n",
              "4            0.013344  0.001251        1.00  74.9375  0.001234         inf   \n",
              "\n",
              "   zhangs_metric  antecedent_price  consequent_price  is_cross_sell  \\\n",
              "0       0.984962          0.997061        157.245503           True   \n",
              "1       0.984962          0.997061        157.245503           True   \n",
              "2       0.984962          0.570204        157.245503           True   \n",
              "3       0.984962          0.570204        157.245503           True   \n",
              "4       0.987891        136.885747        114.956422           True   \n",
              "\n",
              "   expected_return  \n",
              "0       117.934128  \n",
              "1       117.934128  \n",
              "2       117.934128  \n",
              "3       117.934128  \n",
              "4       114.956422  "
            ]
          },
          "execution_count": 68,
          "metadata": {},
          "output_type": "execute_result"
        }
      ],
      "source": [
        "data.head()"
      ]
    },
    {
      "cell_type": "code",
      "execution_count": 69,
      "metadata": {
        "colab": {
          "base_uri": "https://localhost:8080/",
          "height": 261
        },
        "id": "ChgmD2Lg_-6d",
        "outputId": "63247b98-8c30-4286-ed56-8538d025406e"
      },
      "outputs": [
        {
          "data": {
            "text/html": [
              "<div>\n",
              "<style scoped>\n",
              "    .dataframe tbody tr th:only-of-type {\n",
              "        vertical-align: middle;\n",
              "    }\n",
              "\n",
              "    .dataframe tbody tr th {\n",
              "        vertical-align: top;\n",
              "    }\n",
              "\n",
              "    .dataframe thead th {\n",
              "        text-align: right;\n",
              "    }\n",
              "</style>\n",
              "<table border=\"1\" class=\"dataframe\">\n",
              "  <thead>\n",
              "    <tr style=\"text-align: right;\">\n",
              "      <th></th>\n",
              "      <th>antecedents</th>\n",
              "      <th>consequents</th>\n",
              "      <th>expected_return</th>\n",
              "    </tr>\n",
              "  </thead>\n",
              "  <tbody>\n",
              "    <tr>\n",
              "      <th>0</th>\n",
              "      <td>1390401</td>\n",
              "      <td>579087</td>\n",
              "      <td>117.934128</td>\n",
              "    </tr>\n",
              "    <tr>\n",
              "      <th>1</th>\n",
              "      <td>1390401</td>\n",
              "      <td>579087</td>\n",
              "      <td>117.934128</td>\n",
              "    </tr>\n",
              "    <tr>\n",
              "      <th>2</th>\n",
              "      <td>915256</td>\n",
              "      <td>579087</td>\n",
              "      <td>117.934128</td>\n",
              "    </tr>\n",
              "    <tr>\n",
              "      <th>3</th>\n",
              "      <td>915256</td>\n",
              "      <td>579087</td>\n",
              "      <td>117.934128</td>\n",
              "    </tr>\n",
              "    <tr>\n",
              "      <th>4</th>\n",
              "      <td>59473</td>\n",
              "      <td>85044</td>\n",
              "      <td>114.956422</td>\n",
              "    </tr>\n",
              "  </tbody>\n",
              "</table>\n",
              "</div>"
            ],
            "text/plain": [
              "   antecedents  consequents  expected_return\n",
              "0      1390401       579087       117.934128\n",
              "1      1390401       579087       117.934128\n",
              "2       915256       579087       117.934128\n",
              "3       915256       579087       117.934128\n",
              "4        59473        85044       114.956422"
            ]
          },
          "execution_count": 69,
          "metadata": {},
          "output_type": "execute_result"
        }
      ],
      "source": [
        "data = data[['antecedents', 'consequents', 'expected_return']]\n",
        "data.head()"
      ]
    },
    {
      "cell_type": "code",
      "execution_count": 70,
      "metadata": {
        "colab": {
          "base_uri": "https://localhost:8080/",
          "height": 261
        },
        "id": "uClPLf8eBxEu",
        "outputId": "99c0f56f-e088-4ebf-d3dd-f515399fc8c3"
      },
      "outputs": [
        {
          "data": {
            "text/html": [
              "<div>\n",
              "<style scoped>\n",
              "    .dataframe tbody tr th:only-of-type {\n",
              "        vertical-align: middle;\n",
              "    }\n",
              "\n",
              "    .dataframe tbody tr th {\n",
              "        vertical-align: top;\n",
              "    }\n",
              "\n",
              "    .dataframe thead th {\n",
              "        text-align: right;\n",
              "    }\n",
              "</style>\n",
              "<table border=\"1\" class=\"dataframe\">\n",
              "  <thead>\n",
              "    <tr style=\"text-align: right;\">\n",
              "      <th></th>\n",
              "      <th>antecedents</th>\n",
              "      <th>consequents</th>\n",
              "      <th>expected_return</th>\n",
              "    </tr>\n",
              "  </thead>\n",
              "  <tbody>\n",
              "    <tr>\n",
              "      <th>61</th>\n",
              "      <td>11100</td>\n",
              "      <td>85044</td>\n",
              "      <td>68.973853</td>\n",
              "    </tr>\n",
              "    <tr>\n",
              "      <th>4</th>\n",
              "      <td>59473</td>\n",
              "      <td>85044</td>\n",
              "      <td>114.956422</td>\n",
              "    </tr>\n",
              "    <tr>\n",
              "      <th>25</th>\n",
              "      <td>85044</td>\n",
              "      <td>59473</td>\n",
              "      <td>82.131448</td>\n",
              "    </tr>\n",
              "    <tr>\n",
              "      <th>900</th>\n",
              "      <td>246256</td>\n",
              "      <td>2008648</td>\n",
              "      <td>33.689696</td>\n",
              "    </tr>\n",
              "    <tr>\n",
              "      <th>2645</th>\n",
              "      <td>378845</td>\n",
              "      <td>642862</td>\n",
              "      <td>8.858056</td>\n",
              "    </tr>\n",
              "  </tbody>\n",
              "</table>\n",
              "</div>"
            ],
            "text/plain": [
              "      antecedents  consequents  expected_return\n",
              "61          11100        85044        68.973853\n",
              "4           59473        85044       114.956422\n",
              "25          85044        59473        82.131448\n",
              "900        246256      2008648        33.689696\n",
              "2645       378845       642862         8.858056"
            ]
          },
          "execution_count": 70,
          "metadata": {},
          "output_type": "execute_result"
        }
      ],
      "source": [
        "max_return = data.groupby('antecedents')['expected_return'].idxmax().reset_index(drop=True)\n",
        "\n",
        "data_max_return = data.loc[max_return]\n",
        "data_max_return.head()"
      ]
    },
    {
      "cell_type": "code",
      "execution_count": 71,
      "metadata": {
        "colab": {
          "base_uri": "https://localhost:8080/",
          "height": 261
        },
        "id": "CqgnU_BkCe3M",
        "outputId": "c81a37a5-c0a5-4b19-b5bc-dff3cee5dbaf"
      },
      "outputs": [
        {
          "data": {
            "text/html": [
              "<div>\n",
              "<style scoped>\n",
              "    .dataframe tbody tr th:only-of-type {\n",
              "        vertical-align: middle;\n",
              "    }\n",
              "\n",
              "    .dataframe tbody tr th {\n",
              "        vertical-align: top;\n",
              "    }\n",
              "\n",
              "    .dataframe thead th {\n",
              "        text-align: right;\n",
              "    }\n",
              "</style>\n",
              "<table border=\"1\" class=\"dataframe\">\n",
              "  <thead>\n",
              "    <tr style=\"text-align: right;\">\n",
              "      <th></th>\n",
              "      <th>date_order</th>\n",
              "      <th>product_id</th>\n",
              "      <th>client_id</th>\n",
              "      <th>sales_net</th>\n",
              "    </tr>\n",
              "  </thead>\n",
              "  <tbody>\n",
              "    <tr>\n",
              "      <th>6362</th>\n",
              "      <td>2017-10-02</td>\n",
              "      <td>2734140</td>\n",
              "      <td>1552980</td>\n",
              "      <td>22.107599</td>\n",
              "    </tr>\n",
              "    <tr>\n",
              "      <th>7291</th>\n",
              "      <td>2017-09-25</td>\n",
              "      <td>2354998</td>\n",
              "      <td>1666266</td>\n",
              "      <td>52.699017</td>\n",
              "    </tr>\n",
              "    <tr>\n",
              "      <th>7491</th>\n",
              "      <td>2017-09-25</td>\n",
              "      <td>1745137</td>\n",
              "      <td>1666266</td>\n",
              "      <td>87.721428</td>\n",
              "    </tr>\n",
              "    <tr>\n",
              "      <th>8241</th>\n",
              "      <td>2017-09-25</td>\n",
              "      <td>2542409</td>\n",
              "      <td>1666266</td>\n",
              "      <td>92.275078</td>\n",
              "    </tr>\n",
              "    <tr>\n",
              "      <th>13090</th>\n",
              "      <td>2017-09-29</td>\n",
              "      <td>2542409</td>\n",
              "      <td>1666266</td>\n",
              "      <td>89.279373</td>\n",
              "    </tr>\n",
              "  </tbody>\n",
              "</table>\n",
              "</div>"
            ],
            "text/plain": [
              "      date_order  product_id  client_id  sales_net\n",
              "6362  2017-10-02     2734140    1552980  22.107599\n",
              "7291  2017-09-25     2354998    1666266  52.699017\n",
              "7491  2017-09-25     1745137    1666266  87.721428\n",
              "8241  2017-09-25     2542409    1666266  92.275078\n",
              "13090 2017-09-29     2542409    1666266  89.279373"
            ]
          },
          "execution_count": 71,
          "metadata": {},
          "output_type": "execute_result"
        }
      ],
      "source": [
        "trans_sample.drop(columns=['date_invoice', 'order_channel', 'quantity', 'branch_id', 'ABC_group'], inplace=True)\n",
        "trans_sample.head()"
      ]
    },
    {
      "cell_type": "code",
      "execution_count": 72,
      "metadata": {
        "colab": {
          "base_uri": "https://localhost:8080/"
        },
        "id": "57qsWiPiGZp0",
        "outputId": "dbb9bd65-5681-4395-8628-949c9a643c29"
      },
      "outputs": [
        {
          "name": "stdout",
          "output_type": "stream",
          "text": [
            "<class 'pandas.core.frame.DataFrame'>\n",
            "Index: 8668 entries, 6362 to 61739269\n",
            "Data columns (total 4 columns):\n",
            " #   Column      Non-Null Count  Dtype         \n",
            "---  ------      --------------  -----         \n",
            " 0   date_order  8668 non-null   datetime64[ns]\n",
            " 1   product_id  8668 non-null   int32         \n",
            " 2   client_id   8668 non-null   int32         \n",
            " 3   sales_net   8668 non-null   float32       \n",
            "dtypes: datetime64[ns](1), float32(1), int32(2)\n",
            "memory usage: 237.0 KB\n"
          ]
        }
      ],
      "source": [
        "trans_sample.info()"
      ]
    },
    {
      "cell_type": "code",
      "execution_count": 73,
      "metadata": {
        "colab": {
          "base_uri": "https://localhost:8080/"
        },
        "id": "c2zSR33lFjBH",
        "outputId": "56e6fe88-fff4-4e5e-a3c5-fe4aec4ebdd9"
      },
      "outputs": [],
      "source": [
        "trans_grouped = trans_sample.groupby(['client_id', 'date_order'])"
      ]
    },
    {
      "cell_type": "code",
      "execution_count": 74,
      "metadata": {
        "colab": {
          "base_uri": "https://localhost:8080/",
          "height": 261
        },
        "id": "W8S1TnMZFmHU",
        "outputId": "31a2fb18-b1fa-4d50-c24a-5fb0b5907400"
      },
      "outputs": [
        {
          "data": {
            "text/html": [
              "<div>\n",
              "<style scoped>\n",
              "    .dataframe tbody tr th:only-of-type {\n",
              "        vertical-align: middle;\n",
              "    }\n",
              "\n",
              "    .dataframe tbody tr th {\n",
              "        vertical-align: top;\n",
              "    }\n",
              "\n",
              "    .dataframe thead th {\n",
              "        text-align: right;\n",
              "    }\n",
              "</style>\n",
              "<table border=\"1\" class=\"dataframe\">\n",
              "  <thead>\n",
              "    <tr style=\"text-align: right;\">\n",
              "      <th></th>\n",
              "      <th>antecedent</th>\n",
              "      <th>consequent</th>\n",
              "      <th>potential_revenue_increase</th>\n",
              "    </tr>\n",
              "  </thead>\n",
              "  <tbody>\n",
              "    <tr>\n",
              "      <th>0</th>\n",
              "      <td>11100.0</td>\n",
              "      <td>85044.0</td>\n",
              "      <td>3586.640368</td>\n",
              "    </tr>\n",
              "    <tr>\n",
              "      <th>1</th>\n",
              "      <td>59473.0</td>\n",
              "      <td>85044.0</td>\n",
              "      <td>2529.041285</td>\n",
              "    </tr>\n",
              "    <tr>\n",
              "      <th>2</th>\n",
              "      <td>85044.0</td>\n",
              "      <td>59473.0</td>\n",
              "      <td>1724.760415</td>\n",
              "    </tr>\n",
              "    <tr>\n",
              "      <th>3</th>\n",
              "      <td>246256.0</td>\n",
              "      <td>2008648.0</td>\n",
              "      <td>1044.380586</td>\n",
              "    </tr>\n",
              "    <tr>\n",
              "      <th>4</th>\n",
              "      <td>378845.0</td>\n",
              "      <td>642862.0</td>\n",
              "      <td>1089.540901</td>\n",
              "    </tr>\n",
              "  </tbody>\n",
              "</table>\n",
              "</div>"
            ],
            "text/plain": [
              "   antecedent  consequent  potential_revenue_increase\n",
              "0     11100.0     85044.0                 3586.640368\n",
              "1     59473.0     85044.0                 2529.041285\n",
              "2     85044.0     59473.0                 1724.760415\n",
              "3    246256.0   2008648.0                 1044.380586\n",
              "4    378845.0    642862.0                 1089.540901"
            ]
          },
          "execution_count": 74,
          "metadata": {},
          "output_type": "execute_result"
        }
      ],
      "source": [
        "#NOTE: To generate this code we utilized ChatGPT, and only made some small adjustments to the names\n",
        "\n",
        "\n",
        "revenue_increase_list = []\n",
        "\n",
        "# Iterate over each antecedent-consequent pair in the highest_return_data\n",
        "for index, row in data_max_return.iterrows():\n",
        "    antecedent = row['antecedents']\n",
        "    consequent = row['consequents']\n",
        "    expected_return = row['expected_return']\n",
        "\n",
        "    # Initialize potential revenue increase\n",
        "    potential_revenue_increase = 0\n",
        "\n",
        "    # Iterate over each group\n",
        "    for name, group in trans_grouped:\n",
        "        # Check if the antecedent is in the product_id column and the consequent is not\n",
        "        if antecedent in group['product_id'].values and consequent not in group['product_id'].values:\n",
        "            potential_revenue_increase += expected_return\n",
        "\n",
        "    # Append result to list\n",
        "    revenue_increase_list.append((antecedent, consequent, potential_revenue_increase))\n",
        "\n",
        "# Convert the result to a DataFrame for better readability\n",
        "revenue_increase_df = pd.DataFrame(revenue_increase_list, columns=['antecedent', 'consequent', 'potential_revenue_increase'])\n",
        "\n",
        "revenue_increase_df.head()"
      ]
    },
    {
      "cell_type": "code",
      "execution_count": 75,
      "metadata": {
        "colab": {
          "base_uri": "https://localhost:8080/"
        },
        "id": "0B840XcsGC-E",
        "outputId": "25f5e3ff-0919-482b-e7d8-535c561ad266"
      },
      "outputs": [
        {
          "name": "stdout",
          "output_type": "stream",
          "text": [
            "The potential increase in sales for the sample is 425736.643780148%\n",
            "The ordanary sales for the sample is 5410123.0%\n",
            "The increase in sales is 7.869259973944179%\n"
          ]
        }
      ],
      "source": [
        "potential_sales = revenue_increase_df['potential_revenue_increase'].sum()\n",
        "sales = trans_sample['sales_net'].sum()\n",
        "sales_impact = potential_sales/sales\n",
        "print(f\"The potential increase in sales for the sample is {potential_sales}%\")\n",
        "print(f\"The ordanary sales for the sample is {sales}%\")\n",
        "print(f\"The increase in sales is {sales_impact*100}%\")\n"
      ]
    },
    {
      "cell_type": "markdown",
      "metadata": {
        "id": "mnctXIZzJe8G"
      },
      "source": [
        "In this example the sales net would increase with 2.4%. We do not have a good reference of what one might expect, but this does seems like a reasonable number."
      ]
    },
    {
      "cell_type": "markdown",
      "metadata": {},
      "source": [
        "### **6. Future Lines of Work** "
      ]
    },
    {
      "cell_type": "markdown",
      "metadata": {
        "id": "oBDujjJ5o52Q"
      },
      "source": [
        "\n",
        "\n",
        "This approach gives a good insight into the value of effective cross-selling. To implement this in production this workflow for recommending products should be done for all the products in segment A. This is only 23 thousand products, so it should be possible with a powerfull infrastructure.\n",
        "\n",
        "We only used the transactions from 100 clients based on sales. These clients are the big spenders and will probably not be a good representation of the whole customerbase.\n",
        "\n",
        "An approach based on taking the customer segments and sales channels into account could give accurate recommendations."
      ]
    }
  ],
  "metadata": {
    "colab": {
      "machine_shape": "hm",
      "provenance": [],
      "toc_visible": true
    },
    "kernelspec": {
      "display_name": "Python 3",
      "name": "python3"
    },
    "language_info": {
      "codemirror_mode": {
        "name": "ipython",
        "version": 3
      },
      "file_extension": ".py",
      "mimetype": "text/x-python",
      "name": "python",
      "nbconvert_exporter": "python",
      "pygments_lexer": "ipython3",
      "version": "3.10.14"
    }
  },
  "nbformat": 4,
  "nbformat_minor": 0
}
